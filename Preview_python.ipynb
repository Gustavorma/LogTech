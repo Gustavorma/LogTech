{
  "nbformat": 4,
  "nbformat_minor": 0,
  "metadata": {
    "colab": {
      "provenance": [],
      "include_colab_link": true
    },
    "kernelspec": {
      "name": "python3",
      "display_name": "Python 3"
    },
    "language_info": {
      "name": "python"
    }
  },
  "cells": [
    {
      "cell_type": "markdown",
      "metadata": {
        "id": "view-in-github",
        "colab_type": "text"
      },
      "source": [
        "<a href=\"https://colab.research.google.com/github/Gustavorma/LogTech/blob/main/Preview_python.ipynb\" target=\"_parent\"><img src=\"https://colab.research.google.com/assets/colab-badge.svg\" alt=\"Open In Colab\"/></a>"
      ]
    },
    {
      "cell_type": "markdown",
      "source": [
        "# **1 Parte**: Adicionando as bibliotecas e os dataframes, modificando e consolidando a base.\n",
        "\n"
      ],
      "metadata": {
        "id": "40EWfAOCeBYt"
      }
    },
    {
      "cell_type": "code",
      "source": [
        "#Bibliotecas para rodar o código\n",
        "import pandas as pd\n",
        "import numpy as np\n",
        "import matplotlib.pyplot as plt\n",
        "\n",
        "!pip install pulp\n",
        "from pulp import * #Todas as funções da biblioteca\n",
        "\n",
        "from google.colab import files #Fazer o download do arquivo CSV\n"
      ],
      "metadata": {
        "id": "hNdlUPM7b7f-",
        "collapsed": true,
        "colab": {
          "base_uri": "https://localhost:8080/"
        },
        "outputId": "f3774f23-4439-4e22-e711-b96fab155e2a"
      },
      "execution_count": 4,
      "outputs": [
        {
          "output_type": "stream",
          "name": "stdout",
          "text": [
            "Requirement already satisfied: pulp in /usr/local/lib/python3.10/dist-packages (2.8.0)\n"
          ]
        }
      ]
    },
    {
      "cell_type": "markdown",
      "source": [
        "### **1.1**: Abrindo os dataframes e fazendo alguns tratamentos iniciais, como por exemplo, renomear algumas colunas e consolidar em um único dataframe."
      ],
      "metadata": {
        "id": "ST8DqN1HasIO"
      }
    },
    {
      "cell_type": "code",
      "source": [
        "#Habilitando a abertura de dados que estão no Google Drive (inserindo os dados)\n",
        "from google.colab import drive\n",
        "drive.mount ('/content/drive')\n",
        "\n",
        "file = '/content/drive/My Drive/Fatec/6° Semestre/Tecnologia da Informação aplicada à Logística/API/Dados/'\n",
        "\n",
        "#Abrindo os arquivos csv\n",
        "Rotas = pd.read_csv(file+ 'Rotas.csv', sep = ';', decimal =',')\n",
        "\n",
        "Clientes = pd.read_csv(file+ 'Clientes.csv', sep = ',', decimal = '.')\n",
        "Clientes.rename(columns={'LAT': 'LAT_CLIENTES', 'LONG': 'LONG_CLIENTES'}, inplace=True) #Renomenado as colunas latitude e longitute para ficar mais didático a leitura dos dados\n",
        "\n",
        "Fabricas = pd.read_csv(file+ 'Fabricas.csv', sep = ',', decimal = '.', encoding='latin1')\n",
        "Fabricas.rename(columns={'LAT': 'LAT_FAB', 'LONG': 'LONG_FAB'}, inplace=True) #Df Fabricas"
      ],
      "metadata": {
        "id": "XGtlfbQjd8Hr",
        "colab": {
          "base_uri": "https://localhost:8080/"
        },
        "outputId": "24293c2d-ad62-4034-b584-b6f30ed13ae0"
      },
      "execution_count": 5,
      "outputs": [
        {
          "output_type": "stream",
          "name": "stdout",
          "text": [
            "Drive already mounted at /content/drive; to attempt to forcibly remount, call drive.mount(\"/content/drive\", force_remount=True).\n"
          ]
        }
      ]
    },
    {
      "cell_type": "code",
      "source": [
        "#Checagem dos arquivos: Arquivo \"Rotas\"\n",
        "Rotas.info()\n",
        "print(Rotas)"
      ],
      "metadata": {
        "id": "EaTX6qXqbKkC",
        "collapsed": true,
        "colab": {
          "base_uri": "https://localhost:8080/"
        },
        "outputId": "09e9f84e-f3c8-405d-e2a1-ed8887810395"
      },
      "execution_count": 6,
      "outputs": [
        {
          "output_type": "stream",
          "name": "stdout",
          "text": [
            "<class 'pandas.core.frame.DataFrame'>\n",
            "RangeIndex: 106262 entries, 0 to 106261\n",
            "Data columns (total 13 columns):\n",
            " #   Column       Non-Null Count   Dtype  \n",
            "---  ------       --------------   -----  \n",
            " 0   Dt.Emissao   106262 non-null  object \n",
            " 1   Dt.Entrega   106262 non-null  object \n",
            " 2   Mes.Base     106262 non-null  int64  \n",
            " 3   Ano.Exec     106262 non-null  int64  \n",
            " 4   CO.Fabrica   106262 non-null  int64  \n",
            " 5   CO.Cliente   106262 non-null  int64  \n",
            " 6   Incoterm     106262 non-null  object \n",
            " 7   Veiculo      106262 non-null  object \n",
            " 8   Qtd/pallets  106262 non-null  int64  \n",
            " 9   Qtd.Transp   106262 non-null  int64  \n",
            " 10  Moeda        106262 non-null  object \n",
            " 11  Vlr.Frete    106262 non-null  object \n",
            " 12  Dist         106262 non-null  float64\n",
            "dtypes: float64(1), int64(6), object(6)\n",
            "memory usage: 10.5+ MB\n",
            "        Dt.Emissao  Dt.Entrega  Mes.Base  Ano.Exec  CO.Fabrica  CO.Cliente  \\\n",
            "0       01/01/2023  05/01/2023         1      2023     3423909        2311   \n",
            "1       01/01/2023  03/01/2023         1      2023     3424402        2333   \n",
            "2       01/01/2023  04/01/2023         1      2023     3403208        2347   \n",
            "3       01/01/2023  06/01/2023         1      2023     3424402        2332   \n",
            "4       01/01/2023  04/01/2023         1      2023     3424402        2332   \n",
            "...            ...         ...       ...       ...         ...         ...   \n",
            "106257  21/11/2023  25/11/2023        11      2023     3424402        2350   \n",
            "106258  24/11/2023  26/11/2023        11      2023     3424402        2350   \n",
            "106259  25/11/2023  29/11/2023        11      2023     3424402        2350   \n",
            "106260  26/11/2023  01/12/2023        11      2023     3424402        2350   \n",
            "106261  28/11/2023  03/12/2023        11      2023     3424402        2350   \n",
            "\n",
            "       Incoterm Veiculo  Qtd/pallets  Qtd.Transp Moeda Vlr.Frete    Dist  \n",
            "0           FOB     P24           24        3600   BRL         0   71.38  \n",
            "1           FOB     P12           12        1500   BRL         0   75.63  \n",
            "2           FOB     P12           12        1800   BRL         0   86.44  \n",
            "3           FOB     P12           12        1800   BRL         0   91.62  \n",
            "4           FOB     P12           12        1500   BRL         0   91.62  \n",
            "...         ...     ...          ...         ...   ...       ...     ...  \n",
            "106257      CIF     P24           24        2400   BRL   2348.75  404.94  \n",
            "106258      CIF     P24           24        2400   BRL   2348.75  404.94  \n",
            "106259      CIF     P24           24        2400   BRL   2348.75  404.94  \n",
            "106260      CIF     P24           24        2400   BRL   2348.75  404.94  \n",
            "106261      CIF     P24           24        2400   BRL   2348.75  404.94  \n",
            "\n",
            "[106262 rows x 13 columns]\n"
          ]
        }
      ]
    },
    {
      "cell_type": "code",
      "source": [
        "#Checagem dos arquivos: Arquivo \"Clientes\"\n",
        "Clientes.info()\n",
        "print(Clientes)"
      ],
      "metadata": {
        "id": "vAi2e7H7jtLU",
        "collapsed": true,
        "colab": {
          "base_uri": "https://localhost:8080/"
        },
        "outputId": "1afcab20-91e2-4eda-942a-99ac273726fd"
      },
      "execution_count": 7,
      "outputs": [
        {
          "output_type": "stream",
          "name": "stdout",
          "text": [
            "<class 'pandas.core.frame.DataFrame'>\n",
            "RangeIndex: 51 entries, 0 to 50\n",
            "Data columns (total 4 columns):\n",
            " #   Column         Non-Null Count  Dtype  \n",
            "---  ------         --------------  -----  \n",
            " 0   CO.Cliente     51 non-null     int64  \n",
            " 1   MUN            51 non-null     object \n",
            " 2   LAT_CLIENTES   51 non-null     float64\n",
            " 3   LONG_CLIENTES  51 non-null     float64\n",
            "dtypes: float64(2), int64(1), object(1)\n",
            "memory usage: 1.7+ KB\n",
            "    CO.Cliente                    MUN  LAT_CLIENTES  LONG_CLIENTES\n",
            "0         2301               VALINHOS    -22.951880     -47.027790\n",
            "1         2302               CAMPINAS    -22.894290     -47.058220\n",
            "2         2303               CAMPINAS    -22.926340     -47.039740\n",
            "3         2304               CAMPINAS    -22.833090     -47.079430\n",
            "4         2305               CAMPINAS    -22.823070     -47.078180\n",
            "5         2306               VALINHOS    -22.975090     -47.014780\n",
            "6         2307               CAMPINAS    -22.949560     -47.092680\n",
            "7         2308               CAMPINAS    -22.880620     -46.969440\n",
            "8         2309              AMERICANA    -22.722370     -47.307400\n",
            "9         2310              SAO PAULO    -23.470840     -46.649650\n",
            "10        2311             PIRACICABA    -22.741450     -47.601810\n",
            "11        2312                JACAREI    -23.311050     -45.981070\n",
            "12        2313    SAO JOSE DOS CAMPOS    -23.222990     -45.905950\n",
            "13        2314    SAO JOSE DOS CAMPOS    -23.228285     -45.908522\n",
            "14        2315    SAO JOSE DOS CAMPOS    -23.237400     -45.896600\n",
            "15        2316    SAO JOSE DOS CAMPOS    -23.241870     -45.905000\n",
            "16        2317    SAO JOSE DOS CAMPOS    -23.228360     -45.911240\n",
            "17        2318    SAO JOSE DOS CAMPOS    -23.174220     -45.816290\n",
            "18        2319              SAO PAULO    -23.516720     -46.670400\n",
            "19        2320              SAO PAULO    -23.552240     -46.742320\n",
            "20        2321              SAO PAULO    -23.541490     -46.730600\n",
            "21        2322              SAO PAULO    -23.534660     -46.712950\n",
            "22        2323              SAO PAULO    -23.590320     -46.739510\n",
            "23        2324              SAO PAULO    -23.595510     -46.737650\n",
            "24        2325              SAO PAULO    -23.609620     -46.752960\n",
            "25        2326                  COTIA    -23.589150     -46.816900\n",
            "26        2327              SAO PAULO    -23.611840     -46.740810\n",
            "27        2328              SAO PAULO    -23.670500     -46.647850\n",
            "28        2329  SAO BERNARDO DO CAMPO    -23.674080     -46.571410\n",
            "29        2330                   MAUA    -23.662890     -46.482230\n",
            "30        2331                 OSASCO    -23.551640     -46.794660\n",
            "31        2332              SAO PAULO    -23.485520     -46.738830\n",
            "32        2333              SAO PAULO    -23.467220     -46.584750\n",
            "33        2334    SANTANA DE PARNAIBA    -23.466680     -46.846220\n",
            "34        2335    SANTANA DE PARNAIBA    -23.462360     -46.876010\n",
            "35        2336             SAO CARLOS    -22.044500     -47.889980\n",
            "36        2337             SAO CARLOS    -22.023840     -47.880210\n",
            "37        2338             SAO CARLOS    -22.038480     -47.860180\n",
            "38        2339                TAUBATE    -23.017330     -45.551060\n",
            "39        2340                TAUBATE    -22.997560     -45.540060\n",
            "40        2341               CACAPAVA    -23.072230     -45.712270\n",
            "41        2342               CACAPAVA    -23.119190     -45.713470\n",
            "42        2343        PINDAMONHANGABA    -22.954670     -45.494890\n",
            "43        2344               SOROCABA    -23.465870     -47.496230\n",
            "44        2345               SOROCABA    -23.495630     -47.511210\n",
            "45        2346               SOROCABA    -23.486490     -47.471170\n",
            "46        2347         RIBEIRAO PRETO    -21.194980     -47.755890\n",
            "47        2348         RIBEIRAO PRETO    -21.141180     -47.804820\n",
            "48        2349         RIBEIRAO PRETO    -21.175160     -47.794550\n",
            "49        2350                  BAURU    -22.312100     -49.057460\n",
            "50        2351                  BAURU    -22.316280     -49.068150\n"
          ]
        }
      ]
    },
    {
      "cell_type": "code",
      "source": [
        "#Checagem dos arquivos: Arquivo \"Fabricas\"\n",
        "Fabricas.info()\n",
        "print(Fabricas)"
      ],
      "metadata": {
        "id": "sW7kj3v2jvPd",
        "collapsed": true,
        "colab": {
          "base_uri": "https://localhost:8080/"
        },
        "outputId": "5ef0cc87-c693-425c-caaf-ffeefc2cc8f6"
      },
      "execution_count": 8,
      "outputs": [
        {
          "output_type": "stream",
          "name": "stdout",
          "text": [
            "<class 'pandas.core.frame.DataFrame'>\n",
            "RangeIndex: 3 entries, 0 to 2\n",
            "Data columns (total 6 columns):\n",
            " #   Column      Non-Null Count  Dtype  \n",
            "---  ------      --------------  -----  \n",
            " 0   CO.Fabrica  3 non-null      int64  \n",
            " 1   NO_MUN      3 non-null      object \n",
            " 2   NO_MUN_MIN  3 non-null      object \n",
            " 3   SG_UF       3 non-null      object \n",
            " 4   LAT_FAB     3 non-null      float64\n",
            " 5   LONG_FAB    3 non-null      float64\n",
            "dtypes: float64(2), int64(1), object(3)\n",
            "memory usage: 272.0+ bytes\n",
            "   CO.Fabrica      NO_MUN  NO_MUN_MIN SG_UF    LAT_FAB   LONG_FAB\n",
            "0     3423909         ITU         Itu    SP -23.251784 -47.343908\n",
            "1     3403208  ARARAQUARA  Araraquara    SP -21.820935 -48.172327\n",
            "2     3424402     JACAREI     Jacareí    SP -23.287136 -45.984976\n"
          ]
        }
      ]
    },
    {
      "cell_type": "code",
      "source": [
        "#Mesclar a base\n",
        "Base = Rotas.merge(Clientes, left_on='CO.Cliente',\n",
        "                right_on='CO.Cliente',\n",
        "                how='inner').merge(Fabricas, left_on='CO.Fabrica',\n",
        "                                   right_on='CO.Fabrica',\n",
        "                                   how='inner')"
      ],
      "metadata": {
        "id": "mAn9Y0zEj2xO"
      },
      "execution_count": 9,
      "outputs": []
    },
    {
      "cell_type": "code",
      "source": [
        "# Checagem final\n",
        "Base.info()"
      ],
      "metadata": {
        "id": "baw0CU6Bj6li",
        "collapsed": true,
        "colab": {
          "base_uri": "https://localhost:8080/"
        },
        "outputId": "e87dc98e-6076-4712-db05-693449b12182"
      },
      "execution_count": 10,
      "outputs": [
        {
          "output_type": "stream",
          "name": "stdout",
          "text": [
            "<class 'pandas.core.frame.DataFrame'>\n",
            "RangeIndex: 106262 entries, 0 to 106261\n",
            "Data columns (total 21 columns):\n",
            " #   Column         Non-Null Count   Dtype  \n",
            "---  ------         --------------   -----  \n",
            " 0   Dt.Emissao     106262 non-null  object \n",
            " 1   Dt.Entrega     106262 non-null  object \n",
            " 2   Mes.Base       106262 non-null  int64  \n",
            " 3   Ano.Exec       106262 non-null  int64  \n",
            " 4   CO.Fabrica     106262 non-null  int64  \n",
            " 5   CO.Cliente     106262 non-null  int64  \n",
            " 6   Incoterm       106262 non-null  object \n",
            " 7   Veiculo        106262 non-null  object \n",
            " 8   Qtd/pallets    106262 non-null  int64  \n",
            " 9   Qtd.Transp     106262 non-null  int64  \n",
            " 10  Moeda          106262 non-null  object \n",
            " 11  Vlr.Frete      106262 non-null  object \n",
            " 12  Dist           106262 non-null  float64\n",
            " 13  MUN            106262 non-null  object \n",
            " 14  LAT_CLIENTES   106262 non-null  float64\n",
            " 15  LONG_CLIENTES  106262 non-null  float64\n",
            " 16  NO_MUN         106262 non-null  object \n",
            " 17  NO_MUN_MIN     106262 non-null  object \n",
            " 18  SG_UF          106262 non-null  object \n",
            " 19  LAT_FAB        106262 non-null  float64\n",
            " 20  LONG_FAB       106262 non-null  float64\n",
            "dtypes: float64(5), int64(6), object(10)\n",
            "memory usage: 17.0+ MB\n"
          ]
        }
      ]
    },
    {
      "cell_type": "code",
      "source": [
        "#Visualiza o df final\n",
        "pd.set_option('display.max_columns', None) #Define a opção de exibir todas as colunas\n",
        "Base.head(5)"
      ],
      "metadata": {
        "id": "fazjGRNcj9po",
        "collapsed": true,
        "colab": {
          "base_uri": "https://localhost:8080/",
          "height": 206
        },
        "outputId": "85532cf2-b417-4509-9a37-139714a1f970"
      },
      "execution_count": 11,
      "outputs": [
        {
          "output_type": "execute_result",
          "data": {
            "text/plain": [
              "   Dt.Emissao  Dt.Entrega  Mes.Base  Ano.Exec  CO.Fabrica  CO.Cliente  \\\n",
              "0  01/01/2023  05/01/2023         1      2023     3423909        2311   \n",
              "1  02/01/2023  05/01/2023         1      2023     3423909        2311   \n",
              "2  02/01/2023  05/01/2023         1      2023     3423909        2311   \n",
              "3  02/01/2023  06/01/2023         1      2023     3423909        2311   \n",
              "4  03/01/2023  07/01/2023         1      2023     3423909        2311   \n",
              "\n",
              "  Incoterm Veiculo  Qtd/pallets  Qtd.Transp Moeda Vlr.Frete   Dist  \\\n",
              "0      FOB     P24           24        3600   BRL         0  71.38   \n",
              "1      FOB     P12           12        1500   BRL         0  71.38   \n",
              "2      FOB     P24           24        3600   BRL         0  71.38   \n",
              "3      FOB     P24           24        3600   BRL         0  71.38   \n",
              "4      FOB     P24           24        2400   BRL         0  71.38   \n",
              "\n",
              "          MUN  LAT_CLIENTES  LONG_CLIENTES NO_MUN NO_MUN_MIN SG_UF    LAT_FAB  \\\n",
              "0  PIRACICABA     -22.74145      -47.60181    ITU        Itu    SP -23.251784   \n",
              "1  PIRACICABA     -22.74145      -47.60181    ITU        Itu    SP -23.251784   \n",
              "2  PIRACICABA     -22.74145      -47.60181    ITU        Itu    SP -23.251784   \n",
              "3  PIRACICABA     -22.74145      -47.60181    ITU        Itu    SP -23.251784   \n",
              "4  PIRACICABA     -22.74145      -47.60181    ITU        Itu    SP -23.251784   \n",
              "\n",
              "    LONG_FAB  \n",
              "0 -47.343908  \n",
              "1 -47.343908  \n",
              "2 -47.343908  \n",
              "3 -47.343908  \n",
              "4 -47.343908  "
            ],
            "text/html": [
              "\n",
              "  <div id=\"df-e47433a5-5718-4985-8bae-d4d4754c2524\" class=\"colab-df-container\">\n",
              "    <div>\n",
              "<style scoped>\n",
              "    .dataframe tbody tr th:only-of-type {\n",
              "        vertical-align: middle;\n",
              "    }\n",
              "\n",
              "    .dataframe tbody tr th {\n",
              "        vertical-align: top;\n",
              "    }\n",
              "\n",
              "    .dataframe thead th {\n",
              "        text-align: right;\n",
              "    }\n",
              "</style>\n",
              "<table border=\"1\" class=\"dataframe\">\n",
              "  <thead>\n",
              "    <tr style=\"text-align: right;\">\n",
              "      <th></th>\n",
              "      <th>Dt.Emissao</th>\n",
              "      <th>Dt.Entrega</th>\n",
              "      <th>Mes.Base</th>\n",
              "      <th>Ano.Exec</th>\n",
              "      <th>CO.Fabrica</th>\n",
              "      <th>CO.Cliente</th>\n",
              "      <th>Incoterm</th>\n",
              "      <th>Veiculo</th>\n",
              "      <th>Qtd/pallets</th>\n",
              "      <th>Qtd.Transp</th>\n",
              "      <th>Moeda</th>\n",
              "      <th>Vlr.Frete</th>\n",
              "      <th>Dist</th>\n",
              "      <th>MUN</th>\n",
              "      <th>LAT_CLIENTES</th>\n",
              "      <th>LONG_CLIENTES</th>\n",
              "      <th>NO_MUN</th>\n",
              "      <th>NO_MUN_MIN</th>\n",
              "      <th>SG_UF</th>\n",
              "      <th>LAT_FAB</th>\n",
              "      <th>LONG_FAB</th>\n",
              "    </tr>\n",
              "  </thead>\n",
              "  <tbody>\n",
              "    <tr>\n",
              "      <th>0</th>\n",
              "      <td>01/01/2023</td>\n",
              "      <td>05/01/2023</td>\n",
              "      <td>1</td>\n",
              "      <td>2023</td>\n",
              "      <td>3423909</td>\n",
              "      <td>2311</td>\n",
              "      <td>FOB</td>\n",
              "      <td>P24</td>\n",
              "      <td>24</td>\n",
              "      <td>3600</td>\n",
              "      <td>BRL</td>\n",
              "      <td>0</td>\n",
              "      <td>71.38</td>\n",
              "      <td>PIRACICABA</td>\n",
              "      <td>-22.74145</td>\n",
              "      <td>-47.60181</td>\n",
              "      <td>ITU</td>\n",
              "      <td>Itu</td>\n",
              "      <td>SP</td>\n",
              "      <td>-23.251784</td>\n",
              "      <td>-47.343908</td>\n",
              "    </tr>\n",
              "    <tr>\n",
              "      <th>1</th>\n",
              "      <td>02/01/2023</td>\n",
              "      <td>05/01/2023</td>\n",
              "      <td>1</td>\n",
              "      <td>2023</td>\n",
              "      <td>3423909</td>\n",
              "      <td>2311</td>\n",
              "      <td>FOB</td>\n",
              "      <td>P12</td>\n",
              "      <td>12</td>\n",
              "      <td>1500</td>\n",
              "      <td>BRL</td>\n",
              "      <td>0</td>\n",
              "      <td>71.38</td>\n",
              "      <td>PIRACICABA</td>\n",
              "      <td>-22.74145</td>\n",
              "      <td>-47.60181</td>\n",
              "      <td>ITU</td>\n",
              "      <td>Itu</td>\n",
              "      <td>SP</td>\n",
              "      <td>-23.251784</td>\n",
              "      <td>-47.343908</td>\n",
              "    </tr>\n",
              "    <tr>\n",
              "      <th>2</th>\n",
              "      <td>02/01/2023</td>\n",
              "      <td>05/01/2023</td>\n",
              "      <td>1</td>\n",
              "      <td>2023</td>\n",
              "      <td>3423909</td>\n",
              "      <td>2311</td>\n",
              "      <td>FOB</td>\n",
              "      <td>P24</td>\n",
              "      <td>24</td>\n",
              "      <td>3600</td>\n",
              "      <td>BRL</td>\n",
              "      <td>0</td>\n",
              "      <td>71.38</td>\n",
              "      <td>PIRACICABA</td>\n",
              "      <td>-22.74145</td>\n",
              "      <td>-47.60181</td>\n",
              "      <td>ITU</td>\n",
              "      <td>Itu</td>\n",
              "      <td>SP</td>\n",
              "      <td>-23.251784</td>\n",
              "      <td>-47.343908</td>\n",
              "    </tr>\n",
              "    <tr>\n",
              "      <th>3</th>\n",
              "      <td>02/01/2023</td>\n",
              "      <td>06/01/2023</td>\n",
              "      <td>1</td>\n",
              "      <td>2023</td>\n",
              "      <td>3423909</td>\n",
              "      <td>2311</td>\n",
              "      <td>FOB</td>\n",
              "      <td>P24</td>\n",
              "      <td>24</td>\n",
              "      <td>3600</td>\n",
              "      <td>BRL</td>\n",
              "      <td>0</td>\n",
              "      <td>71.38</td>\n",
              "      <td>PIRACICABA</td>\n",
              "      <td>-22.74145</td>\n",
              "      <td>-47.60181</td>\n",
              "      <td>ITU</td>\n",
              "      <td>Itu</td>\n",
              "      <td>SP</td>\n",
              "      <td>-23.251784</td>\n",
              "      <td>-47.343908</td>\n",
              "    </tr>\n",
              "    <tr>\n",
              "      <th>4</th>\n",
              "      <td>03/01/2023</td>\n",
              "      <td>07/01/2023</td>\n",
              "      <td>1</td>\n",
              "      <td>2023</td>\n",
              "      <td>3423909</td>\n",
              "      <td>2311</td>\n",
              "      <td>FOB</td>\n",
              "      <td>P24</td>\n",
              "      <td>24</td>\n",
              "      <td>2400</td>\n",
              "      <td>BRL</td>\n",
              "      <td>0</td>\n",
              "      <td>71.38</td>\n",
              "      <td>PIRACICABA</td>\n",
              "      <td>-22.74145</td>\n",
              "      <td>-47.60181</td>\n",
              "      <td>ITU</td>\n",
              "      <td>Itu</td>\n",
              "      <td>SP</td>\n",
              "      <td>-23.251784</td>\n",
              "      <td>-47.343908</td>\n",
              "    </tr>\n",
              "  </tbody>\n",
              "</table>\n",
              "</div>\n",
              "    <div class=\"colab-df-buttons\">\n",
              "\n",
              "  <div class=\"colab-df-container\">\n",
              "    <button class=\"colab-df-convert\" onclick=\"convertToInteractive('df-e47433a5-5718-4985-8bae-d4d4754c2524')\"\n",
              "            title=\"Convert this dataframe to an interactive table.\"\n",
              "            style=\"display:none;\">\n",
              "\n",
              "  <svg xmlns=\"http://www.w3.org/2000/svg\" height=\"24px\" viewBox=\"0 -960 960 960\">\n",
              "    <path d=\"M120-120v-720h720v720H120Zm60-500h600v-160H180v160Zm220 220h160v-160H400v160Zm0 220h160v-160H400v160ZM180-400h160v-160H180v160Zm440 0h160v-160H620v160ZM180-180h160v-160H180v160Zm440 0h160v-160H620v160Z\"/>\n",
              "  </svg>\n",
              "    </button>\n",
              "\n",
              "  <style>\n",
              "    .colab-df-container {\n",
              "      display:flex;\n",
              "      gap: 12px;\n",
              "    }\n",
              "\n",
              "    .colab-df-convert {\n",
              "      background-color: #E8F0FE;\n",
              "      border: none;\n",
              "      border-radius: 50%;\n",
              "      cursor: pointer;\n",
              "      display: none;\n",
              "      fill: #1967D2;\n",
              "      height: 32px;\n",
              "      padding: 0 0 0 0;\n",
              "      width: 32px;\n",
              "    }\n",
              "\n",
              "    .colab-df-convert:hover {\n",
              "      background-color: #E2EBFA;\n",
              "      box-shadow: 0px 1px 2px rgba(60, 64, 67, 0.3), 0px 1px 3px 1px rgba(60, 64, 67, 0.15);\n",
              "      fill: #174EA6;\n",
              "    }\n",
              "\n",
              "    .colab-df-buttons div {\n",
              "      margin-bottom: 4px;\n",
              "    }\n",
              "\n",
              "    [theme=dark] .colab-df-convert {\n",
              "      background-color: #3B4455;\n",
              "      fill: #D2E3FC;\n",
              "    }\n",
              "\n",
              "    [theme=dark] .colab-df-convert:hover {\n",
              "      background-color: #434B5C;\n",
              "      box-shadow: 0px 1px 3px 1px rgba(0, 0, 0, 0.15);\n",
              "      filter: drop-shadow(0px 1px 2px rgba(0, 0, 0, 0.3));\n",
              "      fill: #FFFFFF;\n",
              "    }\n",
              "  </style>\n",
              "\n",
              "    <script>\n",
              "      const buttonEl =\n",
              "        document.querySelector('#df-e47433a5-5718-4985-8bae-d4d4754c2524 button.colab-df-convert');\n",
              "      buttonEl.style.display =\n",
              "        google.colab.kernel.accessAllowed ? 'block' : 'none';\n",
              "\n",
              "      async function convertToInteractive(key) {\n",
              "        const element = document.querySelector('#df-e47433a5-5718-4985-8bae-d4d4754c2524');\n",
              "        const dataTable =\n",
              "          await google.colab.kernel.invokeFunction('convertToInteractive',\n",
              "                                                    [key], {});\n",
              "        if (!dataTable) return;\n",
              "\n",
              "        const docLinkHtml = 'Like what you see? Visit the ' +\n",
              "          '<a target=\"_blank\" href=https://colab.research.google.com/notebooks/data_table.ipynb>data table notebook</a>'\n",
              "          + ' to learn more about interactive tables.';\n",
              "        element.innerHTML = '';\n",
              "        dataTable['output_type'] = 'display_data';\n",
              "        await google.colab.output.renderOutput(dataTable, element);\n",
              "        const docLink = document.createElement('div');\n",
              "        docLink.innerHTML = docLinkHtml;\n",
              "        element.appendChild(docLink);\n",
              "      }\n",
              "    </script>\n",
              "  </div>\n",
              "\n",
              "\n",
              "<div id=\"df-e44a9df4-ed63-4df3-a103-a1850ac4f2cb\">\n",
              "  <button class=\"colab-df-quickchart\" onclick=\"quickchart('df-e44a9df4-ed63-4df3-a103-a1850ac4f2cb')\"\n",
              "            title=\"Suggest charts\"\n",
              "            style=\"display:none;\">\n",
              "\n",
              "<svg xmlns=\"http://www.w3.org/2000/svg\" height=\"24px\"viewBox=\"0 0 24 24\"\n",
              "     width=\"24px\">\n",
              "    <g>\n",
              "        <path d=\"M19 3H5c-1.1 0-2 .9-2 2v14c0 1.1.9 2 2 2h14c1.1 0 2-.9 2-2V5c0-1.1-.9-2-2-2zM9 17H7v-7h2v7zm4 0h-2V7h2v10zm4 0h-2v-4h2v4z\"/>\n",
              "    </g>\n",
              "</svg>\n",
              "  </button>\n",
              "\n",
              "<style>\n",
              "  .colab-df-quickchart {\n",
              "      --bg-color: #E8F0FE;\n",
              "      --fill-color: #1967D2;\n",
              "      --hover-bg-color: #E2EBFA;\n",
              "      --hover-fill-color: #174EA6;\n",
              "      --disabled-fill-color: #AAA;\n",
              "      --disabled-bg-color: #DDD;\n",
              "  }\n",
              "\n",
              "  [theme=dark] .colab-df-quickchart {\n",
              "      --bg-color: #3B4455;\n",
              "      --fill-color: #D2E3FC;\n",
              "      --hover-bg-color: #434B5C;\n",
              "      --hover-fill-color: #FFFFFF;\n",
              "      --disabled-bg-color: #3B4455;\n",
              "      --disabled-fill-color: #666;\n",
              "  }\n",
              "\n",
              "  .colab-df-quickchart {\n",
              "    background-color: var(--bg-color);\n",
              "    border: none;\n",
              "    border-radius: 50%;\n",
              "    cursor: pointer;\n",
              "    display: none;\n",
              "    fill: var(--fill-color);\n",
              "    height: 32px;\n",
              "    padding: 0;\n",
              "    width: 32px;\n",
              "  }\n",
              "\n",
              "  .colab-df-quickchart:hover {\n",
              "    background-color: var(--hover-bg-color);\n",
              "    box-shadow: 0 1px 2px rgba(60, 64, 67, 0.3), 0 1px 3px 1px rgba(60, 64, 67, 0.15);\n",
              "    fill: var(--button-hover-fill-color);\n",
              "  }\n",
              "\n",
              "  .colab-df-quickchart-complete:disabled,\n",
              "  .colab-df-quickchart-complete:disabled:hover {\n",
              "    background-color: var(--disabled-bg-color);\n",
              "    fill: var(--disabled-fill-color);\n",
              "    box-shadow: none;\n",
              "  }\n",
              "\n",
              "  .colab-df-spinner {\n",
              "    border: 2px solid var(--fill-color);\n",
              "    border-color: transparent;\n",
              "    border-bottom-color: var(--fill-color);\n",
              "    animation:\n",
              "      spin 1s steps(1) infinite;\n",
              "  }\n",
              "\n",
              "  @keyframes spin {\n",
              "    0% {\n",
              "      border-color: transparent;\n",
              "      border-bottom-color: var(--fill-color);\n",
              "      border-left-color: var(--fill-color);\n",
              "    }\n",
              "    20% {\n",
              "      border-color: transparent;\n",
              "      border-left-color: var(--fill-color);\n",
              "      border-top-color: var(--fill-color);\n",
              "    }\n",
              "    30% {\n",
              "      border-color: transparent;\n",
              "      border-left-color: var(--fill-color);\n",
              "      border-top-color: var(--fill-color);\n",
              "      border-right-color: var(--fill-color);\n",
              "    }\n",
              "    40% {\n",
              "      border-color: transparent;\n",
              "      border-right-color: var(--fill-color);\n",
              "      border-top-color: var(--fill-color);\n",
              "    }\n",
              "    60% {\n",
              "      border-color: transparent;\n",
              "      border-right-color: var(--fill-color);\n",
              "    }\n",
              "    80% {\n",
              "      border-color: transparent;\n",
              "      border-right-color: var(--fill-color);\n",
              "      border-bottom-color: var(--fill-color);\n",
              "    }\n",
              "    90% {\n",
              "      border-color: transparent;\n",
              "      border-bottom-color: var(--fill-color);\n",
              "    }\n",
              "  }\n",
              "</style>\n",
              "\n",
              "  <script>\n",
              "    async function quickchart(key) {\n",
              "      const quickchartButtonEl =\n",
              "        document.querySelector('#' + key + ' button');\n",
              "      quickchartButtonEl.disabled = true;  // To prevent multiple clicks.\n",
              "      quickchartButtonEl.classList.add('colab-df-spinner');\n",
              "      try {\n",
              "        const charts = await google.colab.kernel.invokeFunction(\n",
              "            'suggestCharts', [key], {});\n",
              "      } catch (error) {\n",
              "        console.error('Error during call to suggestCharts:', error);\n",
              "      }\n",
              "      quickchartButtonEl.classList.remove('colab-df-spinner');\n",
              "      quickchartButtonEl.classList.add('colab-df-quickchart-complete');\n",
              "    }\n",
              "    (() => {\n",
              "      let quickchartButtonEl =\n",
              "        document.querySelector('#df-e44a9df4-ed63-4df3-a103-a1850ac4f2cb button');\n",
              "      quickchartButtonEl.style.display =\n",
              "        google.colab.kernel.accessAllowed ? 'block' : 'none';\n",
              "    })();\n",
              "  </script>\n",
              "</div>\n",
              "\n",
              "    </div>\n",
              "  </div>\n"
            ],
            "application/vnd.google.colaboratory.intrinsic+json": {
              "type": "dataframe",
              "variable_name": "Base"
            }
          },
          "metadata": {},
          "execution_count": 11
        }
      ]
    },
    {
      "cell_type": "code",
      "source": [
        "#Alterando o nome das fabricas e ID dos clientes\n",
        "\n",
        "Base['CO.Fabrica'] = Base['CO.Fabrica'].replace({3423909: 1, 3403208: 2, 3424402: 3}) #Alterar o nome das fábricas\n",
        "\n",
        "Base['CO.Cliente'] = Base['CO.Cliente'].astype(str).apply(lambda x: x[2:] if len(x) > 2 else x) #Alterar o ID dos clientes\n",
        "Base['CO.Cliente'] = Base['CO.Cliente'].astype(int)\n",
        "\n",
        "print(Base)"
      ],
      "metadata": {
        "id": "Cj_7q0AOQYBZ",
        "colab": {
          "base_uri": "https://localhost:8080/"
        },
        "outputId": "fc54dea5-dcb9-4a34-fc21-5bcc2a909ffc"
      },
      "execution_count": 12,
      "outputs": [
        {
          "output_type": "stream",
          "name": "stdout",
          "text": [
            "        Dt.Emissao  Dt.Entrega  Mes.Base  Ano.Exec  CO.Fabrica  CO.Cliente  \\\n",
            "0       01/01/2023  05/01/2023         1      2023           1          11   \n",
            "1       02/01/2023  05/01/2023         1      2023           1          11   \n",
            "2       02/01/2023  05/01/2023         1      2023           1          11   \n",
            "3       02/01/2023  06/01/2023         1      2023           1          11   \n",
            "4       03/01/2023  07/01/2023         1      2023           1          11   \n",
            "...            ...         ...       ...       ...         ...         ...   \n",
            "106257  16/11/2023  21/11/2023        11      2023           3          36   \n",
            "106258  23/11/2023  28/11/2023        11      2023           3          36   \n",
            "106259  23/11/2023  28/11/2023        11      2023           3          36   \n",
            "106260  24/11/2023  27/11/2023        11      2023           3          36   \n",
            "106261  01/12/2023  05/12/2023        12      2023           3          36   \n",
            "\n",
            "       Incoterm Veiculo  Qtd/pallets  Qtd.Transp Moeda Vlr.Frete    Dist  \\\n",
            "0           FOB     P24           24        3600   BRL         0   71.38   \n",
            "1           FOB     P12           12        1500   BRL         0   71.38   \n",
            "2           FOB     P24           24        3600   BRL         0   71.38   \n",
            "3           FOB     P24           24        3600   BRL         0   71.38   \n",
            "4           FOB     P24           24        2400   BRL         0   71.38   \n",
            "...         ...     ...          ...         ...   ...       ...     ...   \n",
            "106257      CIF     P24           24        2400   BRL   1651.87  283.05   \n",
            "106258      CIF     P24           24        2400   BRL   1651.87  283.05   \n",
            "106259      CIF     P24           24        2400   BRL   1651.87  283.05   \n",
            "106260      CIF     P24           24        2400   BRL   1651.87  283.05   \n",
            "106261      CIF     P24           24        2400   BRL   1651.87  283.05   \n",
            "\n",
            "               MUN  LAT_CLIENTES  LONG_CLIENTES   NO_MUN NO_MUN_MIN SG_UF  \\\n",
            "0       PIRACICABA     -22.74145      -47.60181      ITU        Itu    SP   \n",
            "1       PIRACICABA     -22.74145      -47.60181      ITU        Itu    SP   \n",
            "2       PIRACICABA     -22.74145      -47.60181      ITU        Itu    SP   \n",
            "3       PIRACICABA     -22.74145      -47.60181      ITU        Itu    SP   \n",
            "4       PIRACICABA     -22.74145      -47.60181      ITU        Itu    SP   \n",
            "...            ...           ...            ...      ...        ...   ...   \n",
            "106257  SAO CARLOS     -22.04450      -47.88998  JACAREI    Jacareí    SP   \n",
            "106258  SAO CARLOS     -22.04450      -47.88998  JACAREI    Jacareí    SP   \n",
            "106259  SAO CARLOS     -22.04450      -47.88998  JACAREI    Jacareí    SP   \n",
            "106260  SAO CARLOS     -22.04450      -47.88998  JACAREI    Jacareí    SP   \n",
            "106261  SAO CARLOS     -22.04450      -47.88998  JACAREI    Jacareí    SP   \n",
            "\n",
            "          LAT_FAB   LONG_FAB  \n",
            "0      -23.251784 -47.343908  \n",
            "1      -23.251784 -47.343908  \n",
            "2      -23.251784 -47.343908  \n",
            "3      -23.251784 -47.343908  \n",
            "4      -23.251784 -47.343908  \n",
            "...           ...        ...  \n",
            "106257 -23.287136 -45.984976  \n",
            "106258 -23.287136 -45.984976  \n",
            "106259 -23.287136 -45.984976  \n",
            "106260 -23.287136 -45.984976  \n",
            "106261 -23.287136 -45.984976  \n",
            "\n",
            "[106262 rows x 21 columns]\n"
          ]
        }
      ]
    },
    {
      "cell_type": "code",
      "source": [
        "#Valores únicos de CO.Cliente e CO.Fabrica\n",
        "clientes_unicos = sorted(Base['CO.Cliente'].unique())\n",
        "fabricas_unicas = Base['CO.Fabrica'].unique()\n",
        "\n",
        "# Imprimir valores únicos\n",
        "print(\"Código orginal das fábricas: 1 = 3423909, 2= 3403208 e 3 = 3424402\")\n",
        "print(\"Fábricas:\", fabricas_unicas)\n",
        "print(\"Clientes:\", clientes_unicos)"
      ],
      "metadata": {
        "id": "MReouCSwSFFW",
        "colab": {
          "base_uri": "https://localhost:8080/"
        },
        "outputId": "ee5d1331-de6b-411d-93a8-80a5efcc920e"
      },
      "execution_count": 13,
      "outputs": [
        {
          "output_type": "stream",
          "name": "stdout",
          "text": [
            "Código orginal das fábricas: 1 = 3423909, 2= 3403208 e 3 = 3424402\n",
            "Fábricas: [1 2 3]\n",
            "Clientes: [1, 2, 3, 4, 5, 6, 7, 8, 9, 10, 11, 12, 13, 14, 15, 16, 17, 18, 19, 20, 21, 22, 23, 24, 25, 26, 27, 28, 29, 30, 31, 32, 33, 34, 35, 36, 37, 38, 39, 40, 41, 42, 43, 44, 45, 46, 47, 48, 49, 50, 51]\n"
          ]
        }
      ]
    },
    {
      "cell_type": "code",
      "source": [
        "#Criar o novo índice no formato Xij como uma nova coluna\n",
        "Base['Xij'] = 'X' + Base['CO.Fabrica'].astype(str) + Base['CO.Cliente'].astype(str).str.zfill(2)\n",
        "\n",
        "#Valores únicos de Xij\n",
        "Xij_unicos = sorted(Base['Xij'].unique())\n",
        "print(\"Xij únicos\", Xij_unicos)"
      ],
      "metadata": {
        "id": "v0Fy3rKaUhu7",
        "colab": {
          "base_uri": "https://localhost:8080/"
        },
        "outputId": "1b18b989-aad0-4eab-c70a-c7083815ac34"
      },
      "execution_count": 14,
      "outputs": [
        {
          "output_type": "stream",
          "name": "stdout",
          "text": [
            "Xij únicos ['X105', 'X108', 'X109', 'X110', 'X111', 'X124', 'X125', 'X126', 'X127', 'X128', 'X129', 'X130', 'X131', 'X132', 'X133', 'X134', 'X135', 'X136', 'X137', 'X138', 'X139', 'X140', 'X141', 'X142', 'X143', 'X147', 'X148', 'X149', 'X150', 'X151', 'X201', 'X202', 'X203', 'X204', 'X205', 'X206', 'X207', 'X208', 'X209', 'X210', 'X211', 'X212', 'X213', 'X214', 'X215', 'X216', 'X217', 'X218', 'X219', 'X220', 'X221', 'X222', 'X223', 'X224', 'X225', 'X226', 'X227', 'X228', 'X229', 'X230', 'X231', 'X232', 'X233', 'X234', 'X235', 'X239', 'X240', 'X241', 'X242', 'X243', 'X244', 'X245', 'X246', 'X247', 'X248', 'X249', 'X250', 'X251', 'X301', 'X302', 'X303', 'X304', 'X305', 'X306', 'X307', 'X308', 'X309', 'X310', 'X311', 'X319', 'X320', 'X321', 'X322', 'X323', 'X324', 'X325', 'X326', 'X327', 'X328', 'X329', 'X330', 'X331', 'X332', 'X333', 'X334', 'X335', 'X336', 'X337', 'X338', 'X344', 'X345', 'X346', 'X347', 'X348', 'X349', 'X350', 'X351']\n"
          ]
        }
      ]
    },
    {
      "cell_type": "markdown",
      "source": [
        "### **1.2 Parte**: adicionando as colunas de capacidade, produtividade e frete/unidade e abaixando o csv consolidado."
      ],
      "metadata": {
        "id": "M4k7sUk4d_fn"
      }
    },
    {
      "cell_type": "code",
      "source": [
        "#Cria nova: coluna condicional (Capacidade dos veículos)\n",
        "Base['Capacidade'] = None\n",
        "Base.loc[Base['Veiculo'] == 'P24', 'Capacidade'] = 3600\n",
        "Base.loc[Base['Veiculo'] == 'P12', 'Capacidade'] = 1800"
      ],
      "metadata": {
        "id": "DwIWZnttkHwf"
      },
      "execution_count": 15,
      "outputs": []
    },
    {
      "cell_type": "code",
      "source": [
        "#Cria nova coluna: Produtividade\n",
        "Base['Produtividade'] = pd.to_numeric(Base['Qtd.Transp'] / Base['Capacidade'] * 100).round(2)\n",
        "print(Base)"
      ],
      "metadata": {
        "id": "-5os-S9rkKYe",
        "collapsed": true,
        "colab": {
          "base_uri": "https://localhost:8080/"
        },
        "outputId": "c7c87529-097c-4401-dc56-80bbb6927dc3"
      },
      "execution_count": 16,
      "outputs": [
        {
          "output_type": "stream",
          "name": "stdout",
          "text": [
            "        Dt.Emissao  Dt.Entrega  Mes.Base  Ano.Exec  CO.Fabrica  CO.Cliente  \\\n",
            "0       01/01/2023  05/01/2023         1      2023           1          11   \n",
            "1       02/01/2023  05/01/2023         1      2023           1          11   \n",
            "2       02/01/2023  05/01/2023         1      2023           1          11   \n",
            "3       02/01/2023  06/01/2023         1      2023           1          11   \n",
            "4       03/01/2023  07/01/2023         1      2023           1          11   \n",
            "...            ...         ...       ...       ...         ...         ...   \n",
            "106257  16/11/2023  21/11/2023        11      2023           3          36   \n",
            "106258  23/11/2023  28/11/2023        11      2023           3          36   \n",
            "106259  23/11/2023  28/11/2023        11      2023           3          36   \n",
            "106260  24/11/2023  27/11/2023        11      2023           3          36   \n",
            "106261  01/12/2023  05/12/2023        12      2023           3          36   \n",
            "\n",
            "       Incoterm Veiculo  Qtd/pallets  Qtd.Transp Moeda Vlr.Frete    Dist  \\\n",
            "0           FOB     P24           24        3600   BRL         0   71.38   \n",
            "1           FOB     P12           12        1500   BRL         0   71.38   \n",
            "2           FOB     P24           24        3600   BRL         0   71.38   \n",
            "3           FOB     P24           24        3600   BRL         0   71.38   \n",
            "4           FOB     P24           24        2400   BRL         0   71.38   \n",
            "...         ...     ...          ...         ...   ...       ...     ...   \n",
            "106257      CIF     P24           24        2400   BRL   1651.87  283.05   \n",
            "106258      CIF     P24           24        2400   BRL   1651.87  283.05   \n",
            "106259      CIF     P24           24        2400   BRL   1651.87  283.05   \n",
            "106260      CIF     P24           24        2400   BRL   1651.87  283.05   \n",
            "106261      CIF     P24           24        2400   BRL   1651.87  283.05   \n",
            "\n",
            "               MUN  LAT_CLIENTES  LONG_CLIENTES   NO_MUN NO_MUN_MIN SG_UF  \\\n",
            "0       PIRACICABA     -22.74145      -47.60181      ITU        Itu    SP   \n",
            "1       PIRACICABA     -22.74145      -47.60181      ITU        Itu    SP   \n",
            "2       PIRACICABA     -22.74145      -47.60181      ITU        Itu    SP   \n",
            "3       PIRACICABA     -22.74145      -47.60181      ITU        Itu    SP   \n",
            "4       PIRACICABA     -22.74145      -47.60181      ITU        Itu    SP   \n",
            "...            ...           ...            ...      ...        ...   ...   \n",
            "106257  SAO CARLOS     -22.04450      -47.88998  JACAREI    Jacareí    SP   \n",
            "106258  SAO CARLOS     -22.04450      -47.88998  JACAREI    Jacareí    SP   \n",
            "106259  SAO CARLOS     -22.04450      -47.88998  JACAREI    Jacareí    SP   \n",
            "106260  SAO CARLOS     -22.04450      -47.88998  JACAREI    Jacareí    SP   \n",
            "106261  SAO CARLOS     -22.04450      -47.88998  JACAREI    Jacareí    SP   \n",
            "\n",
            "          LAT_FAB   LONG_FAB   Xij Capacidade  Produtividade  \n",
            "0      -23.251784 -47.343908  X111       3600         100.00  \n",
            "1      -23.251784 -47.343908  X111       1800          83.33  \n",
            "2      -23.251784 -47.343908  X111       3600         100.00  \n",
            "3      -23.251784 -47.343908  X111       3600         100.00  \n",
            "4      -23.251784 -47.343908  X111       3600          66.67  \n",
            "...           ...        ...   ...        ...            ...  \n",
            "106257 -23.287136 -45.984976  X336       3600          66.67  \n",
            "106258 -23.287136 -45.984976  X336       3600          66.67  \n",
            "106259 -23.287136 -45.984976  X336       3600          66.67  \n",
            "106260 -23.287136 -45.984976  X336       3600          66.67  \n",
            "106261 -23.287136 -45.984976  X336       3600          66.67  \n",
            "\n",
            "[106262 rows x 24 columns]\n"
          ]
        }
      ]
    },
    {
      "cell_type": "code",
      "source": [
        "#Adicionar coluna: Frete/unidade\n",
        "Base['Vlr.Frete'] = Base['Vlr.Frete'].astype(float)\n",
        "Base['Frete/unidade'] = (Base['Vlr.Frete'] / Base['Qtd.Transp']).round(2)\n",
        "\n",
        "pd.set_option('display.max_columns', None)\n",
        "print(Base)"
      ],
      "metadata": {
        "id": "GYYlOpsMq2eM",
        "collapsed": true,
        "colab": {
          "base_uri": "https://localhost:8080/"
        },
        "outputId": "695b0f52-93d2-4fec-d511-ce0055a1bd8c"
      },
      "execution_count": 17,
      "outputs": [
        {
          "output_type": "stream",
          "name": "stdout",
          "text": [
            "        Dt.Emissao  Dt.Entrega  Mes.Base  Ano.Exec  CO.Fabrica  CO.Cliente  \\\n",
            "0       01/01/2023  05/01/2023         1      2023           1          11   \n",
            "1       02/01/2023  05/01/2023         1      2023           1          11   \n",
            "2       02/01/2023  05/01/2023         1      2023           1          11   \n",
            "3       02/01/2023  06/01/2023         1      2023           1          11   \n",
            "4       03/01/2023  07/01/2023         1      2023           1          11   \n",
            "...            ...         ...       ...       ...         ...         ...   \n",
            "106257  16/11/2023  21/11/2023        11      2023           3          36   \n",
            "106258  23/11/2023  28/11/2023        11      2023           3          36   \n",
            "106259  23/11/2023  28/11/2023        11      2023           3          36   \n",
            "106260  24/11/2023  27/11/2023        11      2023           3          36   \n",
            "106261  01/12/2023  05/12/2023        12      2023           3          36   \n",
            "\n",
            "       Incoterm Veiculo  Qtd/pallets  Qtd.Transp Moeda  Vlr.Frete    Dist  \\\n",
            "0           FOB     P24           24        3600   BRL       0.00   71.38   \n",
            "1           FOB     P12           12        1500   BRL       0.00   71.38   \n",
            "2           FOB     P24           24        3600   BRL       0.00   71.38   \n",
            "3           FOB     P24           24        3600   BRL       0.00   71.38   \n",
            "4           FOB     P24           24        2400   BRL       0.00   71.38   \n",
            "...         ...     ...          ...         ...   ...        ...     ...   \n",
            "106257      CIF     P24           24        2400   BRL    1651.87  283.05   \n",
            "106258      CIF     P24           24        2400   BRL    1651.87  283.05   \n",
            "106259      CIF     P24           24        2400   BRL    1651.87  283.05   \n",
            "106260      CIF     P24           24        2400   BRL    1651.87  283.05   \n",
            "106261      CIF     P24           24        2400   BRL    1651.87  283.05   \n",
            "\n",
            "               MUN  LAT_CLIENTES  LONG_CLIENTES   NO_MUN NO_MUN_MIN SG_UF  \\\n",
            "0       PIRACICABA     -22.74145      -47.60181      ITU        Itu    SP   \n",
            "1       PIRACICABA     -22.74145      -47.60181      ITU        Itu    SP   \n",
            "2       PIRACICABA     -22.74145      -47.60181      ITU        Itu    SP   \n",
            "3       PIRACICABA     -22.74145      -47.60181      ITU        Itu    SP   \n",
            "4       PIRACICABA     -22.74145      -47.60181      ITU        Itu    SP   \n",
            "...            ...           ...            ...      ...        ...   ...   \n",
            "106257  SAO CARLOS     -22.04450      -47.88998  JACAREI    Jacareí    SP   \n",
            "106258  SAO CARLOS     -22.04450      -47.88998  JACAREI    Jacareí    SP   \n",
            "106259  SAO CARLOS     -22.04450      -47.88998  JACAREI    Jacareí    SP   \n",
            "106260  SAO CARLOS     -22.04450      -47.88998  JACAREI    Jacareí    SP   \n",
            "106261  SAO CARLOS     -22.04450      -47.88998  JACAREI    Jacareí    SP   \n",
            "\n",
            "          LAT_FAB   LONG_FAB   Xij Capacidade  Produtividade  Frete/unidade  \n",
            "0      -23.251784 -47.343908  X111       3600         100.00           0.00  \n",
            "1      -23.251784 -47.343908  X111       1800          83.33           0.00  \n",
            "2      -23.251784 -47.343908  X111       3600         100.00           0.00  \n",
            "3      -23.251784 -47.343908  X111       3600         100.00           0.00  \n",
            "4      -23.251784 -47.343908  X111       3600          66.67           0.00  \n",
            "...           ...        ...   ...        ...            ...            ...  \n",
            "106257 -23.287136 -45.984976  X336       3600          66.67           0.69  \n",
            "106258 -23.287136 -45.984976  X336       3600          66.67           0.69  \n",
            "106259 -23.287136 -45.984976  X336       3600          66.67           0.69  \n",
            "106260 -23.287136 -45.984976  X336       3600          66.67           0.69  \n",
            "106261 -23.287136 -45.984976  X336       3600          66.67           0.69  \n",
            "\n",
            "[106262 rows x 25 columns]\n"
          ]
        }
      ]
    },
    {
      "cell_type": "code",
      "source": [
        "# Exportar a base para CSV\n",
        "Base.to_csv('Base_tratada.csv', index=False, sep=\";\", decimal=\",\")\n",
        "files.download('Base_tratada.csv')"
      ],
      "metadata": {
        "id": "rq9Sbjd2mfJw",
        "colab": {
          "base_uri": "https://localhost:8080/",
          "height": 17
        },
        "outputId": "8c38349f-696b-4cc9-9311-4b50b9205053"
      },
      "execution_count": 18,
      "outputs": [
        {
          "output_type": "display_data",
          "data": {
            "text/plain": [
              "<IPython.core.display.Javascript object>"
            ],
            "application/javascript": [
              "\n",
              "    async function download(id, filename, size) {\n",
              "      if (!google.colab.kernel.accessAllowed) {\n",
              "        return;\n",
              "      }\n",
              "      const div = document.createElement('div');\n",
              "      const label = document.createElement('label');\n",
              "      label.textContent = `Downloading \"${filename}\": `;\n",
              "      div.appendChild(label);\n",
              "      const progress = document.createElement('progress');\n",
              "      progress.max = size;\n",
              "      div.appendChild(progress);\n",
              "      document.body.appendChild(div);\n",
              "\n",
              "      const buffers = [];\n",
              "      let downloaded = 0;\n",
              "\n",
              "      const channel = await google.colab.kernel.comms.open(id);\n",
              "      // Send a message to notify the kernel that we're ready.\n",
              "      channel.send({})\n",
              "\n",
              "      for await (const message of channel.messages) {\n",
              "        // Send a message to notify the kernel that we're ready.\n",
              "        channel.send({})\n",
              "        if (message.buffers) {\n",
              "          for (const buffer of message.buffers) {\n",
              "            buffers.push(buffer);\n",
              "            downloaded += buffer.byteLength;\n",
              "            progress.value = downloaded;\n",
              "          }\n",
              "        }\n",
              "      }\n",
              "      const blob = new Blob(buffers, {type: 'application/binary'});\n",
              "      const a = document.createElement('a');\n",
              "      a.href = window.URL.createObjectURL(blob);\n",
              "      a.download = filename;\n",
              "      div.appendChild(a);\n",
              "      a.click();\n",
              "      div.remove();\n",
              "    }\n",
              "  "
            ]
          },
          "metadata": {}
        },
        {
          "output_type": "display_data",
          "data": {
            "text/plain": [
              "<IPython.core.display.Javascript object>"
            ],
            "application/javascript": [
              "download(\"download_f119db7a-65ae-4771-bcf1-b39a985df237\", \"Base_tratada.csv\", 17287200)"
            ]
          },
          "metadata": {}
        }
      ]
    },
    {
      "cell_type": "markdown",
      "source": [
        "### **1.3**: Criando gráfico da distribuição dos Incoterms."
      ],
      "metadata": {
        "id": "K9XQagB6c5HP"
      }
    },
    {
      "cell_type": "code",
      "source": [
        "def plotar_grafico_pizza(Base):\n",
        "\n",
        "    contagem_incoterm = Base['Incoterm'].value_counts()     # Conta a quantidade de ocorrências de cada tipo de Incoterm\n",
        "\n",
        "    # Define as cores das fatias\n",
        "    cores = ['green', 'grey']  # FOB: verde, CIF: cinza\n",
        "\n",
        "    # Cria o gráfico de pizza com as cores personalizadas e texto em branco\n",
        "    plt.figure(figsize=(8, 6))\n",
        "    plt.pie(contagem_incoterm, labels=contagem_incoterm.index, autopct='%1.1f%%', startangle=140, colors=cores)\n",
        "    plt.title('Distribuição de Incoterm')\n",
        "    plt.axis('equal')  #Garante que o gráfico de pizza seja desenhado como um círculo.\n",
        "    plt.show()\n",
        "\n",
        "# Chama a função para plotar o gráfico de pizza com base na coluna 'Incoterm' do DataFrame 'Base'\n",
        "plotar_grafico_pizza(Base)"
      ],
      "metadata": {
        "id": "5PMsQt9Sr6hH",
        "colab": {
          "base_uri": "https://localhost:8080/",
          "height": 521
        },
        "outputId": "606a1f26-16e3-4ec1-a968-f7b4ed7afe35"
      },
      "execution_count": 19,
      "outputs": [
        {
          "output_type": "display_data",
          "data": {
            "text/plain": [
              "<Figure size 800x600 with 1 Axes>"
            ],
            "image/png": "[encoded data removed]"
          },
          "metadata": {}
        }
      ]
    },
    {
      "cell_type": "code",
      "source": [
        "#Gerando o dataframe que demonstre todas as relações CIF e FOB por fábrica e cliente\n",
        "\n",
        "def criar_df_agrupado(Base):\n",
        "    # Agrupamento dos dados pelo índice Xij e contagem de ocorrências de cada tipo de Incoterm em cada grupo\n",
        "    agrupado = Base.groupby('Xij')['Incoterm'].value_counts().unstack(fill_value=0)\n",
        "\n",
        "    # Cálculo dos percentuais de CIF e FOB em cada grupo\n",
        "    agrupado['Total'] = agrupado['CIF'] + agrupado['FOB']\n",
        "    agrupado['CIF_percentual'] = round((agrupado['CIF'] / agrupado['Total']) * 100, 4)\n",
        "    agrupado['FOB_percentual'] = round((agrupado['FOB'] / agrupado['Total']) * 100, 4)\n",
        "\n",
        "    return agrupado\n",
        "\n",
        "# Chama a função para criar o DataFrame agrupado por Xij\n",
        "fob_cif = criar_df_agrupado(Base)\n",
        "\n",
        "# Renomear o DataFrame para \"Xij\"\n",
        "fob_cif.rename_axis('Xij', axis=0, inplace=True)\n",
        "\n",
        "# Renomear o rótulo do índice para None\n",
        "fob_cif = fob_cif.rename_axis(None)\n",
        "\n",
        "# Exibe o DataFrame\n",
        "print(fob_cif)"
      ],
      "metadata": {
        "id": "b7WOtIfyyVKv",
        "colab": {
          "base_uri": "https://localhost:8080/"
        },
        "outputId": "bfbe3dc6-858a-4264-b1d2-688963a85172"
      },
      "execution_count": 20,
      "outputs": [
        {
          "output_type": "stream",
          "name": "stdout",
          "text": [
            "Incoterm   CIF  FOB  Total  CIF_percentual  FOB_percentual\n",
            "X105       667  102    769         86.7360         13.2640\n",
            "X108       625   95    720         86.8056         13.1944\n",
            "X109       365   30    395         92.4051          7.5949\n",
            "X110      1222   24   1246         98.0738          1.9262\n",
            "X111       644   90    734         87.7384         12.2616\n",
            "...        ...  ...    ...             ...             ...\n",
            "X347       667  114    781         85.4033         14.5967\n",
            "X348       542   82    624         86.8590         13.1410\n",
            "X349         4  774    778          0.5141         99.4859\n",
            "X350       595   77    672         88.5417         11.4583\n",
            "X351         3  836    839          0.3576         99.6424\n",
            "\n",
            "[117 rows x 5 columns]\n"
          ]
        }
      ]
    },
    {
      "cell_type": "code",
      "source": [
        "#Download das relações FOB/CIF\n",
        "fob_cif.to_csv('fob_cif.csv', index=True, sep=\";\", decimal=\",\")\n",
        "files.download('fob_cif.csv')"
      ],
      "metadata": {
        "id": "Wb3ScZip_xWk",
        "colab": {
          "base_uri": "https://localhost:8080/",
          "height": 17
        },
        "outputId": "cf9a94c3-5463-46f9-b9b9-94e0a31fadf1"
      },
      "execution_count": 21,
      "outputs": [
        {
          "output_type": "display_data",
          "data": {
            "text/plain": [
              "<IPython.core.display.Javascript object>"
            ],
            "application/javascript": [
              "\n",
              "    async function download(id, filename, size) {\n",
              "      if (!google.colab.kernel.accessAllowed) {\n",
              "        return;\n",
              "      }\n",
              "      const div = document.createElement('div');\n",
              "      const label = document.createElement('label');\n",
              "      label.textContent = `Downloading \"${filename}\": `;\n",
              "      div.appendChild(label);\n",
              "      const progress = document.createElement('progress');\n",
              "      progress.max = size;\n",
              "      div.appendChild(progress);\n",
              "      document.body.appendChild(div);\n",
              "\n",
              "      const buffers = [];\n",
              "      let downloaded = 0;\n",
              "\n",
              "      const channel = await google.colab.kernel.comms.open(id);\n",
              "      // Send a message to notify the kernel that we're ready.\n",
              "      channel.send({})\n",
              "\n",
              "      for await (const message of channel.messages) {\n",
              "        // Send a message to notify the kernel that we're ready.\n",
              "        channel.send({})\n",
              "        if (message.buffers) {\n",
              "          for (const buffer of message.buffers) {\n",
              "            buffers.push(buffer);\n",
              "            downloaded += buffer.byteLength;\n",
              "            progress.value = downloaded;\n",
              "          }\n",
              "        }\n",
              "      }\n",
              "      const blob = new Blob(buffers, {type: 'application/binary'});\n",
              "      const a = document.createElement('a');\n",
              "      a.href = window.URL.createObjectURL(blob);\n",
              "      a.download = filename;\n",
              "      div.appendChild(a);\n",
              "      a.click();\n",
              "      div.remove();\n",
              "    }\n",
              "  "
            ]
          },
          "metadata": {}
        },
        {
          "output_type": "display_data",
          "data": {
            "text/plain": [
              "<IPython.core.display.Javascript object>"
            ],
            "application/javascript": [
              "download(\"download_4c1b811a-0c58-4b0b-8b14-6150996e26b5\", \"fob_cif.csv\", 3731)"
            ]
          },
          "metadata": {}
        }
      ]
    },
    {
      "cell_type": "code",
      "source": [
        "#Calculando o custo ajustado para a FO\n",
        "\n",
        "Custo = Base[Base['Frete/unidade'] != 0] #Desconsiderar os valores zerados\n",
        "\n",
        "Mean = Custo.groupby('Xij')['Frete/unidade'].mean().round(2) #Calcular a média dos custos agrupados por Xij\n",
        "\n",
        "Custo_ajustado = Mean * 1.05 #Ajustar os custos com uma margem de 5%\n",
        "\n",
        "# Arredondar os valores para duas casas decimais\n",
        "Custo_ajustado = Custo_ajustado.round(2)\n",
        "\n",
        "# Criar um novo dataframe com os valores ajustados\n",
        "Custo_ajustado = pd.DataFrame({'Xij': Custo_ajustado.index,\n",
        "                        'Frete/unidade': Custo_ajustado.values,\n",
        "                        'Custo_Medio_Ajustado': Custo_ajustado * 1.05}) # Multiplicar por 1.05 para adicionar 5%\n",
        "\n",
        "# Arredondar os valores para duas casas decimais\n",
        "Custo_ajustado = Custo_ajustado.round(2)\n",
        "\n",
        "# Salvar o novo DataFrame em um arquivo separado (por exemplo, CSV)\n",
        "Custo_ajustado.to_csv('custos_medios_ajustados.csv', index=False)\n",
        "\n",
        "# Exibir o novo DataFrame\n",
        "print(Custo_ajustado)"
      ],
      "metadata": {
        "id": "b8Oe06KDbVPn",
        "colab": {
          "base_uri": "https://localhost:8080/"
        },
        "outputId": "0b75f8d0-3684-461e-ca48-ad47f298fd28"
      },
      "execution_count": 22,
      "outputs": [
        {
          "output_type": "stream",
          "name": "stdout",
          "text": [
            "       Xij  Frete/unidade  Custo_Medio_Ajustado\n",
            "Xij                                            \n",
            "X105  X105           0.27                  0.28\n",
            "X108  X108           0.27                  0.28\n",
            "X109  X109           0.28                  0.29\n",
            "X110  X110           0.32                  0.34\n",
            "X111  X111           0.28                  0.29\n",
            "...    ...            ...                   ...\n",
            "X347  X347           0.94                  0.99\n",
            "X348  X348           1.02                  1.07\n",
            "X349  X349           1.11                  1.17\n",
            "X350  X350           1.07                  1.12\n",
            "X351  X351           1.13                  1.19\n",
            "\n",
            "[117 rows x 3 columns]\n"
          ]
        }
      ]
    },
    {
      "cell_type": "code",
      "source": [
        "#Download das relações Custo_ajustado\n",
        "Custo_ajustado.to_csv('Custo_ajustado.csv', index=False, sep=\";\", decimal=\",\")\n",
        "files.download('Custo_ajustado.csv')"
      ],
      "metadata": {
        "id": "cFhM_I4gFz6Z",
        "colab": {
          "base_uri": "https://localhost:8080/",
          "height": 17
        },
        "outputId": "4d3cff44-d3c8-4309-a5c1-c234e9803e9e"
      },
      "execution_count": 23,
      "outputs": [
        {
          "output_type": "display_data",
          "data": {
            "text/plain": [
              "<IPython.core.display.Javascript object>"
            ],
            "application/javascript": [
              "\n",
              "    async function download(id, filename, size) {\n",
              "      if (!google.colab.kernel.accessAllowed) {\n",
              "        return;\n",
              "      }\n",
              "      const div = document.createElement('div');\n",
              "      const label = document.createElement('label');\n",
              "      label.textContent = `Downloading \"${filename}\": `;\n",
              "      div.appendChild(label);\n",
              "      const progress = document.createElement('progress');\n",
              "      progress.max = size;\n",
              "      div.appendChild(progress);\n",
              "      document.body.appendChild(div);\n",
              "\n",
              "      const buffers = [];\n",
              "      let downloaded = 0;\n",
              "\n",
              "      const channel = await google.colab.kernel.comms.open(id);\n",
              "      // Send a message to notify the kernel that we're ready.\n",
              "      channel.send({})\n",
              "\n",
              "      for await (const message of channel.messages) {\n",
              "        // Send a message to notify the kernel that we're ready.\n",
              "        channel.send({})\n",
              "        if (message.buffers) {\n",
              "          for (const buffer of message.buffers) {\n",
              "            buffers.push(buffer);\n",
              "            downloaded += buffer.byteLength;\n",
              "            progress.value = downloaded;\n",
              "          }\n",
              "        }\n",
              "      }\n",
              "      const blob = new Blob(buffers, {type: 'application/binary'});\n",
              "      const a = document.createElement('a');\n",
              "      a.href = window.URL.createObjectURL(blob);\n",
              "      a.download = filename;\n",
              "      div.appendChild(a);\n",
              "      a.click();\n",
              "      div.remove();\n",
              "    }\n",
              "  "
            ]
          },
          "metadata": {}
        },
        {
          "output_type": "display_data",
          "data": {
            "text/plain": [
              "<IPython.core.display.Javascript object>"
            ],
            "application/javascript": [
              "download(\"download_0de420e2-446e-41f9-8a64-151d31229f55\", \"Custo_ajustado.csv\", 1757)"
            ]
          },
          "metadata": {}
        }
      ]
    },
    {
      "cell_type": "code",
      "source": [
        "#Adicionando o df com os valores de frete modificados\n",
        "Custo_mod = pd.read_csv(file+ 'Custo_mod.csv', sep = ';', decimal = ',')\n",
        "Custo_mod.info()\n",
        "Custo_mod.head()\n"
      ],
      "metadata": {
        "colab": {
          "base_uri": "https://localhost:8080/",
          "height": 380
        },
        "id": "AHXFAHIw9qCC",
        "outputId": "7c406489-3d80-4be8-c2c7-32ab464858ee"
      },
      "execution_count": 24,
      "outputs": [
        {
          "output_type": "stream",
          "name": "stdout",
          "text": [
            "<class 'pandas.core.frame.DataFrame'>\n",
            "RangeIndex: 153 entries, 0 to 152\n",
            "Data columns (total 3 columns):\n",
            " #   Column                Non-Null Count  Dtype  \n",
            "---  ------                --------------  -----  \n",
            " 0   Xij                   153 non-null    object \n",
            " 1   Frete/unidade         153 non-null    float64\n",
            " 2   Custo_Medio_Ajustado  153 non-null    float64\n",
            "dtypes: float64(2), object(1)\n",
            "memory usage: 3.7+ KB\n"
          ]
        },
        {
          "output_type": "execute_result",
          "data": {
            "text/plain": [
              "    Xij  Frete/unidade  Custo_Medio_Ajustado\n",
              "0  X101   1.000000e+09          1.000000e+09\n",
              "1  X102   1.000000e+09          1.000000e+09\n",
              "2  X103   1.000000e+09          1.000000e+09\n",
              "3  X104   1.000000e+09          1.000000e+09\n",
              "4  X105   2.700000e-01          2.800000e-01"
            ],
            "text/html": [
              "\n",
              "  <div id=\"df-b1ded6fb-f8aa-42eb-8c32-8086b403393c\" class=\"colab-df-container\">\n",
              "    <div>\n",
              "<style scoped>\n",
              "    .dataframe tbody tr th:only-of-type {\n",
              "        vertical-align: middle;\n",
              "    }\n",
              "\n",
              "    .dataframe tbody tr th {\n",
              "        vertical-align: top;\n",
              "    }\n",
              "\n",
              "    .dataframe thead th {\n",
              "        text-align: right;\n",
              "    }\n",
              "</style>\n",
              "<table border=\"1\" class=\"dataframe\">\n",
              "  <thead>\n",
              "    <tr style=\"text-align: right;\">\n",
              "      <th></th>\n",
              "      <th>Xij</th>\n",
              "      <th>Frete/unidade</th>\n",
              "      <th>Custo_Medio_Ajustado</th>\n",
              "    </tr>\n",
              "  </thead>\n",
              "  <tbody>\n",
              "    <tr>\n",
              "      <th>0</th>\n",
              "      <td>X101</td>\n",
              "      <td>1.000000e+09</td>\n",
              "      <td>1.000000e+09</td>\n",
              "    </tr>\n",
              "    <tr>\n",
              "      <th>1</th>\n",
              "      <td>X102</td>\n",
              "      <td>1.000000e+09</td>\n",
              "      <td>1.000000e+09</td>\n",
              "    </tr>\n",
              "    <tr>\n",
              "      <th>2</th>\n",
              "      <td>X103</td>\n",
              "      <td>1.000000e+09</td>\n",
              "      <td>1.000000e+09</td>\n",
              "    </tr>\n",
              "    <tr>\n",
              "      <th>3</th>\n",
              "      <td>X104</td>\n",
              "      <td>1.000000e+09</td>\n",
              "      <td>1.000000e+09</td>\n",
              "    </tr>\n",
              "    <tr>\n",
              "      <th>4</th>\n",
              "      <td>X105</td>\n",
              "      <td>2.700000e-01</td>\n",
              "      <td>2.800000e-01</td>\n",
              "    </tr>\n",
              "  </tbody>\n",
              "</table>\n",
              "</div>\n",
              "    <div class=\"colab-df-buttons\">\n",
              "\n",
              "  <div class=\"colab-df-container\">\n",
              "    <button class=\"colab-df-convert\" onclick=\"convertToInteractive('df-b1ded6fb-f8aa-42eb-8c32-8086b403393c')\"\n",
              "            title=\"Convert this dataframe to an interactive table.\"\n",
              "            style=\"display:none;\">\n",
              "\n",
              "  <svg xmlns=\"http://www.w3.org/2000/svg\" height=\"24px\" viewBox=\"0 -960 960 960\">\n",
              "    <path d=\"M120-120v-720h720v720H120Zm60-500h600v-160H180v160Zm220 220h160v-160H400v160Zm0 220h160v-160H400v160ZM180-400h160v-160H180v160Zm440 0h160v-160H620v160ZM180-180h160v-160H180v160Zm440 0h160v-160H620v160Z\"/>\n",
              "  </svg>\n",
              "    </button>\n",
              "\n",
              "  <style>\n",
              "    .colab-df-container {\n",
              "      display:flex;\n",
              "      gap: 12px;\n",
              "    }\n",
              "\n",
              "    .colab-df-convert {\n",
              "      background-color: #E8F0FE;\n",
              "      border: none;\n",
              "      border-radius: 50%;\n",
              "      cursor: pointer;\n",
              "      display: none;\n",
              "      fill: #1967D2;\n",
              "      height: 32px;\n",
              "      padding: 0 0 0 0;\n",
              "      width: 32px;\n",
              "    }\n",
              "\n",
              "    .colab-df-convert:hover {\n",
              "      background-color: #E2EBFA;\n",
              "      box-shadow: 0px 1px 2px rgba(60, 64, 67, 0.3), 0px 1px 3px 1px rgba(60, 64, 67, 0.15);\n",
              "      fill: #174EA6;\n",
              "    }\n",
              "\n",
              "    .colab-df-buttons div {\n",
              "      margin-bottom: 4px;\n",
              "    }\n",
              "\n",
              "    [theme=dark] .colab-df-convert {\n",
              "      background-color: #3B4455;\n",
              "      fill: #D2E3FC;\n",
              "    }\n",
              "\n",
              "    [theme=dark] .colab-df-convert:hover {\n",
              "      background-color: #434B5C;\n",
              "      box-shadow: 0px 1px 3px 1px rgba(0, 0, 0, 0.15);\n",
              "      filter: drop-shadow(0px 1px 2px rgba(0, 0, 0, 0.3));\n",
              "      fill: #FFFFFF;\n",
              "    }\n",
              "  </style>\n",
              "\n",
              "    <script>\n",
              "      const buttonEl =\n",
              "        document.querySelector('#df-b1ded6fb-f8aa-42eb-8c32-8086b403393c button.colab-df-convert');\n",
              "      buttonEl.style.display =\n",
              "        google.colab.kernel.accessAllowed ? 'block' : 'none';\n",
              "\n",
              "      async function convertToInteractive(key) {\n",
              "        const element = document.querySelector('#df-b1ded6fb-f8aa-42eb-8c32-8086b403393c');\n",
              "        const dataTable =\n",
              "          await google.colab.kernel.invokeFunction('convertToInteractive',\n",
              "                                                    [key], {});\n",
              "        if (!dataTable) return;\n",
              "\n",
              "        const docLinkHtml = 'Like what you see? Visit the ' +\n",
              "          '<a target=\"_blank\" href=https://colab.research.google.com/notebooks/data_table.ipynb>data table notebook</a>'\n",
              "          + ' to learn more about interactive tables.';\n",
              "        element.innerHTML = '';\n",
              "        dataTable['output_type'] = 'display_data';\n",
              "        await google.colab.output.renderOutput(dataTable, element);\n",
              "        const docLink = document.createElement('div');\n",
              "        docLink.innerHTML = docLinkHtml;\n",
              "        element.appendChild(docLink);\n",
              "      }\n",
              "    </script>\n",
              "  </div>\n",
              "\n",
              "\n",
              "<div id=\"df-8b176547-f7cb-4a68-9678-6c27249d5f10\">\n",
              "  <button class=\"colab-df-quickchart\" onclick=\"quickchart('df-8b176547-f7cb-4a68-9678-6c27249d5f10')\"\n",
              "            title=\"Suggest charts\"\n",
              "            style=\"display:none;\">\n",
              "\n",
              "<svg xmlns=\"http://www.w3.org/2000/svg\" height=\"24px\"viewBox=\"0 0 24 24\"\n",
              "     width=\"24px\">\n",
              "    <g>\n",
              "        <path d=\"M19 3H5c-1.1 0-2 .9-2 2v14c0 1.1.9 2 2 2h14c1.1 0 2-.9 2-2V5c0-1.1-.9-2-2-2zM9 17H7v-7h2v7zm4 0h-2V7h2v10zm4 0h-2v-4h2v4z\"/>\n",
              "    </g>\n",
              "</svg>\n",
              "  </button>\n",
              "\n",
              "<style>\n",
              "  .colab-df-quickchart {\n",
              "      --bg-color: #E8F0FE;\n",
              "      --fill-color: #1967D2;\n",
              "      --hover-bg-color: #E2EBFA;\n",
              "      --hover-fill-color: #174EA6;\n",
              "      --disabled-fill-color: #AAA;\n",
              "      --disabled-bg-color: #DDD;\n",
              "  }\n",
              "\n",
              "  [theme=dark] .colab-df-quickchart {\n",
              "      --bg-color: #3B4455;\n",
              "      --fill-color: #D2E3FC;\n",
              "      --hover-bg-color: #434B5C;\n",
              "      --hover-fill-color: #FFFFFF;\n",
              "      --disabled-bg-color: #3B4455;\n",
              "      --disabled-fill-color: #666;\n",
              "  }\n",
              "\n",
              "  .colab-df-quickchart {\n",
              "    background-color: var(--bg-color);\n",
              "    border: none;\n",
              "    border-radius: 50%;\n",
              "    cursor: pointer;\n",
              "    display: none;\n",
              "    fill: var(--fill-color);\n",
              "    height: 32px;\n",
              "    padding: 0;\n",
              "    width: 32px;\n",
              "  }\n",
              "\n",
              "  .colab-df-quickchart:hover {\n",
              "    background-color: var(--hover-bg-color);\n",
              "    box-shadow: 0 1px 2px rgba(60, 64, 67, 0.3), 0 1px 3px 1px rgba(60, 64, 67, 0.15);\n",
              "    fill: var(--button-hover-fill-color);\n",
              "  }\n",
              "\n",
              "  .colab-df-quickchart-complete:disabled,\n",
              "  .colab-df-quickchart-complete:disabled:hover {\n",
              "    background-color: var(--disabled-bg-color);\n",
              "    fill: var(--disabled-fill-color);\n",
              "    box-shadow: none;\n",
              "  }\n",
              "\n",
              "  .colab-df-spinner {\n",
              "    border: 2px solid var(--fill-color);\n",
              "    border-color: transparent;\n",
              "    border-bottom-color: var(--fill-color);\n",
              "    animation:\n",
              "      spin 1s steps(1) infinite;\n",
              "  }\n",
              "\n",
              "  @keyframes spin {\n",
              "    0% {\n",
              "      border-color: transparent;\n",
              "      border-bottom-color: var(--fill-color);\n",
              "      border-left-color: var(--fill-color);\n",
              "    }\n",
              "    20% {\n",
              "      border-color: transparent;\n",
              "      border-left-color: var(--fill-color);\n",
              "      border-top-color: var(--fill-color);\n",
              "    }\n",
              "    30% {\n",
              "      border-color: transparent;\n",
              "      border-left-color: var(--fill-color);\n",
              "      border-top-color: var(--fill-color);\n",
              "      border-right-color: var(--fill-color);\n",
              "    }\n",
              "    40% {\n",
              "      border-color: transparent;\n",
              "      border-right-color: var(--fill-color);\n",
              "      border-top-color: var(--fill-color);\n",
              "    }\n",
              "    60% {\n",
              "      border-color: transparent;\n",
              "      border-right-color: var(--fill-color);\n",
              "    }\n",
              "    80% {\n",
              "      border-color: transparent;\n",
              "      border-right-color: var(--fill-color);\n",
              "      border-bottom-color: var(--fill-color);\n",
              "    }\n",
              "    90% {\n",
              "      border-color: transparent;\n",
              "      border-bottom-color: var(--fill-color);\n",
              "    }\n",
              "  }\n",
              "</style>\n",
              "\n",
              "  <script>\n",
              "    async function quickchart(key) {\n",
              "      const quickchartButtonEl =\n",
              "        document.querySelector('#' + key + ' button');\n",
              "      quickchartButtonEl.disabled = true;  // To prevent multiple clicks.\n",
              "      quickchartButtonEl.classList.add('colab-df-spinner');\n",
              "      try {\n",
              "        const charts = await google.colab.kernel.invokeFunction(\n",
              "            'suggestCharts', [key], {});\n",
              "      } catch (error) {\n",
              "        console.error('Error during call to suggestCharts:', error);\n",
              "      }\n",
              "      quickchartButtonEl.classList.remove('colab-df-spinner');\n",
              "      quickchartButtonEl.classList.add('colab-df-quickchart-complete');\n",
              "    }\n",
              "    (() => {\n",
              "      let quickchartButtonEl =\n",
              "        document.querySelector('#df-8b176547-f7cb-4a68-9678-6c27249d5f10 button');\n",
              "      quickchartButtonEl.style.display =\n",
              "        google.colab.kernel.accessAllowed ? 'block' : 'none';\n",
              "    })();\n",
              "  </script>\n",
              "</div>\n",
              "\n",
              "    </div>\n",
              "  </div>\n"
            ],
            "application/vnd.google.colaboratory.intrinsic+json": {
              "type": "dataframe",
              "variable_name": "Custo_mod",
              "summary": "{\n  \"name\": \"Custo_mod\",\n  \"rows\": 153,\n  \"fields\": [\n    {\n      \"column\": \"Xij\",\n      \"properties\": {\n        \"dtype\": \"string\",\n        \"num_unique_values\": 153,\n        \"samples\": [\n          \"X234\",\n          \"X236\",\n          \"X247\"\n        ],\n        \"semantic_type\": \"\",\n        \"description\": \"\"\n      }\n    },\n    {\n      \"column\": \"Frete/unidade\",\n      \"properties\": {\n        \"dtype\": \"number\",\n        \"std\": 425575552.4887069,\n        \"min\": 0.23,\n        \"max\": 999999999.99,\n        \"num_unique_values\": 52,\n        \"samples\": [\n          0.76,\n          0.68,\n          0.94\n        ],\n        \"semantic_type\": \"\",\n        \"description\": \"\"\n      }\n    },\n    {\n      \"column\": \"Custo_Medio_Ajustado\",\n      \"properties\": {\n        \"dtype\": \"number\",\n        \"std\": 425575552.4765944,\n        \"min\": 0.24,\n        \"max\": 999999999.99,\n        \"num_unique_values\": 52,\n        \"samples\": [\n          0.8,\n          0.71,\n          0.99\n        ],\n        \"semantic_type\": \"\",\n        \"description\": \"\"\n      }\n    }\n  ]\n}"
            }
          },
          "metadata": {},
          "execution_count": 24
        }
      ]
    },
    {
      "cell_type": "code",
      "source": [
        "# Criar um dicionário para armazenar todas as variáveis únicas\n",
        "variaveis_unicas = {}\n",
        "\n",
        "# Adicionar as variáveis únicas do DataFrame original\n",
        "for var in Base['Xij'].unique():\n",
        "    variaveis_unicas[var] = None\n",
        "\n",
        "# Adicionar as variáveis únicas do DataFrame novo (após o acerto)\n",
        "for var in Custo_mod['Xij'].unique():\n",
        "    variaveis_unicas[var] = None\n",
        "\n",
        "# Exibir o dicionário com todas as variáveis únicas\n",
        "print(variaveis_unicas)"
      ],
      "metadata": {
        "id": "dZFmsPBdigwy",
        "colab": {
          "base_uri": "https://localhost:8080/"
        },
        "outputId": "6b024f10-ad99-4ea4-c90a-15f3bcae6fa2"
      },
      "execution_count": 25,
      "outputs": [
        {
          "output_type": "stream",
          "name": "stdout",
          "text": [
            "{'X111': None, 'X133': None, 'X147': None, 'X132': None, 'X131': None, 'X124': None, 'X125': None, 'X127': None, 'X126': None, 'X135': None, 'X128': None, 'X129': None, 'X130': None, 'X108': None, 'X139': None, 'X149': None, 'X105': None, 'X151': None, 'X137': None, 'X142': None, 'X110': None, 'X150': None, 'X143': None, 'X141': None, 'X140': None, 'X148': None, 'X134': None, 'X138': None, 'X109': None, 'X136': None, 'X211': None, 'X233': None, 'X247': None, 'X232': None, 'X221': None, 'X220': None, 'X231': None, 'X223': None, 'X224': None, 'X225': None, 'X227': None, 'X226': None, 'X235': None, 'X228': None, 'X229': None, 'X206': None, 'X203': None, 'X201': None, 'X207': None, 'X230': None, 'X202': None, 'X208': None, 'X239': None, 'X249': None, 'X217': None, 'X205': None, 'X251': None, 'X214': None, 'X213': None, 'X242': None, 'X210': None, 'X246': None, 'X218': None, 'X250': None, 'X219': None, 'X212': None, 'X243': None, 'X244': None, 'X241': None, 'X240': None, 'X248': None, 'X234': None, 'X222': None, 'X216': None, 'X245': None, 'X204': None, 'X215': None, 'X209': None, 'X311': None, 'X333': None, 'X347': None, 'X332': None, 'X321': None, 'X320': None, 'X331': None, 'X323': None, 'X324': None, 'X325': None, 'X327': None, 'X326': None, 'X335': None, 'X328': None, 'X329': None, 'X306': None, 'X303': None, 'X301': None, 'X307': None, 'X330': None, 'X302': None, 'X308': None, 'X349': None, 'X305': None, 'X351': None, 'X337': None, 'X310': None, 'X346': None, 'X350': None, 'X319': None, 'X344': None, 'X348': None, 'X334': None, 'X322': None, 'X345': None, 'X304': None, 'X338': None, 'X309': None, 'X336': None, 'X101': None, 'X102': None, 'X103': None, 'X104': None, 'X106': None, 'X107': None, 'X112': None, 'X113': None, 'X114': None, 'X115': None, 'X116': None, 'X117': None, 'X118': None, 'X119': None, 'X120': None, 'X121': None, 'X122': None, 'X123': None, 'X144': None, 'X145': None, 'X146': None, 'X236': None, 'X237': None, 'X238': None, 'X312': None, 'X313': None, 'X314': None, 'X315': None, 'X316': None, 'X317': None, 'X318': None, 'X339': None, 'X340': None, 'X341': None, 'X342': None, 'X343': None}\n"
          ]
        }
      ]
    },
    {
      "cell_type": "markdown",
      "source": [
        "# **Parte 2:** Pesquisa operacional (aplicação do método de transportes)."
      ],
      "metadata": {
        "id": "uc3SonYWfuXI"
      }
    },
    {
      "cell_type": "markdown",
      "source": [
        "## **Parte 2.1:** Criando a problemática e inserindo os dados das restrições"
      ],
      "metadata": {
        "id": "Rc2ahMF1hpSg"
      }
    },
    {
      "cell_type": "code",
      "source": [
        "#Inserindo os dados das restrições: Capacidade\n",
        "Capacidade = pd.read_csv(file+ 'Capacidade.csv', sep = ';', decimal = '.')\n",
        "Capacidade['CO.Fabrica'] = Capacidade['CO.Fabrica'].replace({3423909: 1, 3403208: 2, 3424402: 3}) #Alterar o nome das fábricas\n",
        "\n",
        "#Inserindo os dados das restrições: Demanda\n",
        "Demanda = pd.read_csv(file+ 'Demanda.csv', sep = ';', decimal = '.')\n",
        "Demanda['CO.Cliente'] = Demanda['CO.Cliente'].astype(str).apply(lambda x: x[2:] if len(x) > 2 else x) #Alterar o ID dos clientes\n",
        "Demanda['CO.Cliente'] = Demanda['CO.Cliente'].astype(int)\n",
        "Demanda['Demanda_ajustada'] = (Demanda['Demanda'] * 0.521).round(decimals=0).astype(int) #Criando a coluna com a demanda ajustada de acordo com os dados CIF\n",
        "\n",
        "print(Capacidade)\n",
        "print(Demanda)\n",
        "\n",
        "#Criando e definindo o tipo de problema\n",
        "problem = LpProblem('Minimizacao_de_custos_operacionais', LpMinimize)"
      ],
      "metadata": {
        "id": "fBBpkWvL6Wvt",
        "colab": {
          "base_uri": "https://localhost:8080/"
        },
        "outputId": "820466c7-0f95-4960-8d18-6c95ea7c0b91"
      },
      "execution_count": 26,
      "outputs": [
        {
          "output_type": "stream",
          "name": "stdout",
          "text": [
            "   CO.Fabrica  Capacidade\n",
            "0           1    56000000\n",
            "1           2    90000000\n",
            "2           3    90000000\n",
            "    CO.Cliente   Demanda  Demanda_ajustada\n",
            "0            1   5973721           3112309\n",
            "1            2   1778080            926380\n",
            "2            3   5958798           3104534\n",
            "3            4    896173            466906\n",
            "4            5   3241494           1688818\n",
            "5            6   3244827           1690555\n",
            "6            7  12738726           6636876\n",
            "7            8   6792503           3538894\n",
            "8            9   7471374           3892586\n",
            "9           10   2098730           1093438\n",
            "10          11   7295028           3800710\n",
            "11          12   1350774            703753\n",
            "12          13   1439856            750165\n",
            "13          14   3977784           2072425\n",
            "14          15   3666906           1910458\n",
            "15          16    271034            141209\n",
            "16          17   1272373            662906\n",
            "17          18    569236            296572\n",
            "18          19   1589336            828044\n",
            "19          20   5063433           2638049\n",
            "20          21  10686204           5567512\n",
            "21          22   2495205           1300002\n",
            "22          23   1753764            913711\n",
            "23          24  20427048          10642492\n",
            "24          25   7828763           4078786\n",
            "25          26   5788209           3015657\n",
            "26          27  11836544           6166839\n",
            "27          28   6145143           3201620\n",
            "28          29  13860432           7221285\n",
            "29          30   3482379           1814319\n",
            "30          31   4084642           2128098\n",
            "31          32  10839219           5647233\n",
            "32          33   1336988            696571\n",
            "33          34   1898750            989249\n",
            "34          35  14197671           7396987\n",
            "35          36   1716192            894136\n",
            "36          37    827342            431045\n",
            "37          38   2539443           1323050\n",
            "38          39   1789064            932102\n",
            "39          40    973767            507333\n",
            "40          41   5304924           2763865\n",
            "41          42    838856            437044\n",
            "42          43   8150094           4246199\n",
            "43          44    678417            353455\n",
            "44          45   3600095           1875649\n",
            "45          46   3522678           1835315\n",
            "46          47   3675315           1914839\n",
            "47          48   1310374            682705\n",
            "48          49   1761137            917552\n",
            "49          50   4402893           2293907\n",
            "50          51    133176             69385\n"
          ]
        }
      ]
    },
    {
      "cell_type": "code",
      "source": [
        "# Criando as variáveis de decisão\n",
        "x = LpVariable.dicts(\"Envios\", [(i, j) for i in Capacidade['CO.Fabrica'] for j in Demanda['CO.Cliente']],\n",
        "                     lowBound=0, cat='Continuous')"
      ],
      "metadata": {
        "id": "4hYfF4pZBAZ6"
      },
      "execution_count": 27,
      "outputs": []
    },
    {
      "cell_type": "markdown",
      "source": [
        "## **Parte 2.2:** Criando as restrições do problema"
      ],
      "metadata": {
        "id": "ZgGgrKgVhNwN"
      }
    },
    {
      "cell_type": "code",
      "source": [
        "# Adicionando as restrições de capacidade das fábricas\n",
        "for i, row in Capacidade.iterrows():\n",
        "    problem += lpSum(x[(row['CO.Fabrica'], j)] for j in Demanda['CO.Cliente']) <= row['Capacidade'], f\"Capacidade_Fabrica_{row['CO.Fabrica']}\"\n",
        "\n",
        "# Adicionando as restrições de demanda dos clientes\n",
        "for j, row in Demanda.iterrows():\n",
        "  problem += lpSum(x[(i, row['CO.Cliente'])] for i in Capacidade['CO.Fabrica']) == row['Demanda_ajustada'], f\"Demanda_Cliente_{row['CO.Cliente']}\""
      ],
      "metadata": {
        "id": "ufyqkC2ex-nz"
      },
      "execution_count": 28,
      "outputs": []
    },
    {
      "cell_type": "markdown",
      "source": [
        "## **Parte 2.2:** Criando a Função Objetivo."
      ],
      "metadata": {
        "id": "kW8N2ATChEWS"
      }
    },
    {
      "cell_type": "code",
      "source": [
        "# Garantir que Custo_ajustado tem MultiIndex\n",
        "Custo_mod = Custo_mod.set_index(['Xij'])\n",
        "\n",
        "# Criar dicionário a partir do DataFrame Custo_ajustado\n",
        "custo_dict = Custo_mod['Custo_Medio_Ajustado'].to_dict()\n",
        "\n",
        "# Criando e definindo o tipo de problema\n",
        "problem = LpProblem('Minimizacao_de_custos_operacionais', LpMinimize)\n",
        "\n",
        "# Criando as variáveis de decisão\n",
        "x = LpVariable.dicts(\"Envios\", [(i, j) for i in Capacidade['CO.Fabrica'] for j in Demanda['CO.Cliente']],\n",
        "                     lowBound=0, cat='Continuous')\n",
        "\n",
        "# Adicionando as restrições de capacidade das fábricas\n",
        "for i, row in Capacidade.iterrows():\n",
        "    problem += lpSum(x[(row['CO.Fabrica'], j)] for j in Demanda['CO.Cliente']) <= row['Capacidade'], f\"Capacidade_Fabrica_{row['CO.Fabrica']}\"\n",
        "\n",
        "# Adicionando as restrições de demanda dos clientes\n",
        "for j, row in Demanda.iterrows():\n",
        "    problem += lpSum(x[(i, row['CO.Cliente'])] for i in Capacidade['CO.Fabrica']) >= row['Demanda'], f\"Demanda_Cliente_{row['CO.Cliente']}\"\n",
        "\n",
        "# Definindo a função objetivo, considerando as combinações ausentes\n",
        "problem += lpSum(x[(i, j)] * custo_dict.get(f'X{i}{str(j).zfill(2)}', 0) for i in Capacidade['CO.Fabrica'] for j in Demanda['CO.Cliente']), \"Custo_Total_Transporte\""
      ],
      "metadata": {
        "collapsed": true,
        "id": "gqqObXzopo0F"
      },
      "execution_count": 29,
      "outputs": []
    },
    {
      "cell_type": "markdown",
      "source": [
        "## **Parte 2.3:** Resolução"
      ],
      "metadata": {
        "id": "jt7gctHmhZoC"
      }
    },
    {
      "cell_type": "code",
      "source": [
        "# Resolver o problema\n",
        "problem.solve()\n",
        "\n",
        "# Verificando o status da solução\n",
        "print(\"Status:\", LpStatus[problem.status])\n",
        "\n",
        "# Exibindo o custo total de transporte\n",
        "print(\"Custo Total de Transporte:\", value(problem.objective))\n",
        "\n",
        "# Exibindo as quantidades enviadas de cada fábrica para cada cliente\n",
        "for i in Capacidade['CO.Fabrica']:\n",
        "    for j in Demanda['CO.Cliente']:\n",
        "        if x[(i, j)].varValue > 0:\n",
        "            print(f\"Enviar {x[(i, j)].varValue} unidades da fábrica {i} para o cliente {j}\")"
      ],
      "metadata": {
        "id": "9A8qaLbKvX24",
        "colab": {
          "base_uri": "https://localhost:8080/"
        },
        "outputId": "c995a877-c5ed-46fb-c0a1-55112330c657"
      },
      "execution_count": 30,
      "outputs": [
        {
          "output_type": "stream",
          "name": "stdout",
          "text": [
            "Status: Optimal\n",
            "Custo Total de Transporte: 102737035.65\n",
            "Enviar 19316039.0 unidades da fábrica 1 para o cliente 24\n",
            "Enviar 1898750.0 unidades da fábrica 1 para o cliente 34\n",
            "Enviar 14197671.0 unidades da fábrica 1 para o cliente 35\n",
            "Enviar 1716192.0 unidades da fábrica 1 para o cliente 36\n",
            "Enviar 827342.0 unidades da fábrica 1 para o cliente 37\n",
            "Enviar 2539443.0 unidades da fábrica 1 para o cliente 38\n",
            "Enviar 236922.0 unidades da fábrica 1 para o cliente 39\n",
            "Enviar 973767.0 unidades da fábrica 1 para o cliente 40\n",
            "Enviar 5304924.0 unidades da fábrica 1 para o cliente 41\n",
            "Enviar 838856.0 unidades da fábrica 1 para o cliente 42\n",
            "Enviar 8150094.0 unidades da fábrica 1 para o cliente 43\n",
            "Enviar 5973721.0 unidades da fábrica 2 para o cliente 1\n",
            "Enviar 1778080.0 unidades da fábrica 2 para o cliente 2\n",
            "Enviar 5958798.0 unidades da fábrica 2 para o cliente 3\n",
            "Enviar 896173.0 unidades da fábrica 2 para o cliente 4\n",
            "Enviar 3241494.0 unidades da fábrica 2 para o cliente 5\n",
            "Enviar 3244827.0 unidades da fábrica 2 para o cliente 6\n",
            "Enviar 12738726.0 unidades da fábrica 2 para o cliente 7\n",
            "Enviar 6792503.0 unidades da fábrica 2 para o cliente 8\n",
            "Enviar 7471374.0 unidades da fábrica 2 para o cliente 9\n",
            "Enviar 7295028.0 unidades da fábrica 2 para o cliente 11\n",
            "Enviar 1350774.0 unidades da fábrica 2 para o cliente 12\n",
            "Enviar 1439856.0 unidades da fábrica 2 para o cliente 13\n",
            "Enviar 3977784.0 unidades da fábrica 2 para o cliente 14\n",
            "Enviar 3666906.0 unidades da fábrica 2 para o cliente 15\n",
            "Enviar 271034.0 unidades da fábrica 2 para o cliente 16\n",
            "Enviar 1272373.0 unidades da fábrica 2 para o cliente 17\n",
            "Enviar 569236.0 unidades da fábrica 2 para o cliente 18\n",
            "Enviar 1552142.0 unidades da fábrica 2 para o cliente 39\n",
            "Enviar 678417.0 unidades da fábrica 2 para o cliente 44\n",
            "Enviar 3600095.0 unidades da fábrica 2 para o cliente 45\n",
            "Enviar 3522678.0 unidades da fábrica 2 para o cliente 46\n",
            "Enviar 3675315.0 unidades da fábrica 2 para o cliente 47\n",
            "Enviar 1310374.0 unidades da fábrica 2 para o cliente 48\n",
            "Enviar 1761137.0 unidades da fábrica 2 para o cliente 49\n",
            "Enviar 4402893.0 unidades da fábrica 2 para o cliente 50\n",
            "Enviar 133176.0 unidades da fábrica 2 para o cliente 51\n",
            "Enviar 2098730.0 unidades da fábrica 3 para o cliente 10\n",
            "Enviar 1589336.0 unidades da fábrica 3 para o cliente 19\n",
            "Enviar 5063433.0 unidades da fábrica 3 para o cliente 20\n",
            "Enviar 10686204.0 unidades da fábrica 3 para o cliente 21\n",
            "Enviar 2495205.0 unidades da fábrica 3 para o cliente 22\n",
            "Enviar 1753764.0 unidades da fábrica 3 para o cliente 23\n",
            "Enviar 1111009.0 unidades da fábrica 3 para o cliente 24\n",
            "Enviar 7828763.0 unidades da fábrica 3 para o cliente 25\n",
            "Enviar 5788209.0 unidades da fábrica 3 para o cliente 26\n",
            "Enviar 11836544.0 unidades da fábrica 3 para o cliente 27\n",
            "Enviar 6145143.0 unidades da fábrica 3 para o cliente 28\n",
            "Enviar 13860432.0 unidades da fábrica 3 para o cliente 29\n",
            "Enviar 3482379.0 unidades da fábrica 3 para o cliente 30\n",
            "Enviar 4084642.0 unidades da fábrica 3 para o cliente 31\n",
            "Enviar 10839219.0 unidades da fábrica 3 para o cliente 32\n",
            "Enviar 1336988.0 unidades da fábrica 3 para o cliente 33\n"
          ]
        }
      ]
    },
    {
      "cell_type": "code",
      "source": [
        "# Inicializando listas para os dados\n",
        "resultado = []\n",
        "\n",
        "# Adicionando os resultados à lista de dados\n",
        "for i in Capacidade['CO.Fabrica']:\n",
        "    for j in Demanda['CO.Cliente']:\n",
        "        if x[(i, j)].varValue > 0:\n",
        "            resultado.append([i, j, x[(i, j)].varValue])\n",
        "\n",
        "# Criando o dataframe\n",
        "resultado = pd.DataFrame(resultado, columns=['Fabrica', 'Cliente', 'Unidades_enviadas'])\n",
        "\n",
        "#Criar o novo índice no formato Xij como uma nova coluna\n",
        "resultado['Xij'] = 'X' + resultado['Fabrica'].astype(str) + resultado['Cliente'].astype(str).str.zfill(2)\n",
        "\n",
        "# Remover as colunas 'Fabrica' e 'Cliente'\n",
        "resultado.drop(['Fabrica', 'Cliente'], axis=1, inplace=True)\n",
        "\n",
        "# Reordenar as colunas para colocar 'Xij' antes de 'Unidades Enviadas'\n",
        "resultado = resultado[['Xij', 'Unidades_enviadas']]\n",
        "\n",
        "# Realizar o merge (junção) dos DataFrames usando 'Xij' como chave\n",
        "resultado_com_custo = pd.merge(resultado, Custo_mod, on='Xij', how='left')\n",
        "\n",
        "# Criando a nova coluna 'Custo_Total'\n",
        "resultado_com_custo['Custo_Total'] = resultado_com_custo['Unidades_enviadas'] * resultado_com_custo['Custo_Medio_Ajustado']\n",
        "\n",
        "print(resultado_com_custo)"
      ],
      "metadata": {
        "id": "BBqA-vGI1vPl",
        "colab": {
          "base_uri": "https://localhost:8080/"
        },
        "outputId": "780bbead-37d0-49aa-aa6f-66f79ce5d002"
      },
      "execution_count": 31,
      "outputs": [
        {
          "output_type": "stream",
          "name": "stdout",
          "text": [
            "     Xij  Unidades_enviadas  Frete/unidade  Custo_Medio_Ajustado  Custo_Total\n",
            "0   X124         19316039.0           0.30                  0.32   6181132.48\n",
            "1   X134          1898750.0           0.28                  0.29    550637.50\n",
            "2   X135         14197671.0           0.29                  0.30   4259301.30\n",
            "3   X136          1716192.0           0.51                  0.54    926743.68\n",
            "4   X137           827342.0           0.49                  0.51    421944.42\n",
            "5   X138          2539443.0           0.49                  0.51   1295115.93\n",
            "6   X139           236922.0           0.59                  0.62    146891.64\n",
            "7   X140           973767.0           0.64                  0.67    652423.89\n",
            "8   X141          5304924.0           0.61                  0.64   3395151.36\n",
            "9   X142           838856.0           0.60                  0.63    528479.28\n",
            "10  X143          8150094.0           0.64                  0.67   5460562.98\n",
            "11  X201          5973721.0           0.60                  0.63   3763444.23\n",
            "12  X202          1778080.0           0.54                  0.57   1013505.60\n",
            "13  X203          5958798.0           0.46                  0.48   2860223.04\n",
            "14  X204           896173.0           0.50                  0.53    474971.69\n",
            "15  X205          3241494.0           0.54                  0.57   1847651.58\n",
            "16  X206          3244827.0           0.59                  0.62   2011792.74\n",
            "17  X207         12738726.0           0.56                  0.59   7515848.34\n",
            "18  X208          6792503.0           0.59                  0.62   4211351.86\n",
            "19  X209          7471374.0           0.45                  0.47   3511545.78\n",
            "20  X211          7295028.0           0.40                  0.42   3063911.76\n",
            "21  X212          1350774.0           0.83                  0.87   1175173.38\n",
            "22  X213          1439856.0           0.81                  0.85   1223877.60\n",
            "23  X214          3977784.0           0.76                  0.80   3182227.20\n",
            "24  X215          3666906.0           0.88                  0.92   3373553.52\n",
            "25  X216           271034.0           0.89                  0.93    252061.62\n",
            "26  X217          1272373.0           0.88                  0.92   1170583.16\n",
            "27  X218           569236.0           0.88                  0.92    523697.12\n",
            "28  X239          1552142.0           0.92                  0.97   1505577.74\n",
            "29  X244           678417.0           0.67                  0.70    474891.90\n",
            "30  X245          3600095.0           0.67                  0.70   2520066.50\n",
            "31  X246          3522678.0           0.68                  0.71   2501101.38\n",
            "32  X247          3675315.0           0.29                  0.30   1102594.50\n",
            "33  X248          1310374.0           0.30                  0.32    419319.68\n",
            "34  X249          1761137.0           0.32                  0.34    598786.58\n",
            "35  X250          4402893.0           0.38                  0.40   1761157.20\n",
            "36  X251           133176.0           0.44                  0.46     61260.96\n",
            "37  X310          2098730.0           0.30                  0.32    671593.60\n",
            "38  X319          1589336.0           0.30                  0.32    508587.52\n",
            "39  X320          5063433.0           0.29                  0.30   1519029.90\n",
            "40  X321         10686204.0           0.29                  0.30   3205861.20\n",
            "41  X322          2495205.0           0.30                  0.32    798465.60\n",
            "42  X323          1753764.0           0.27                  0.28    491053.92\n",
            "43  X324          1111009.0           0.32                  0.34    377743.06\n",
            "44  X325          7828763.0           0.28                  0.29   2270341.27\n",
            "45  X326          5788209.0           0.30                  0.32   1852226.88\n",
            "46  X327         11836544.0           0.23                  0.24   2840770.56\n",
            "47  X328          6145143.0           0.33                  0.35   2150800.05\n",
            "48  X329         13860432.0           0.29                  0.30   4158129.60\n",
            "49  X330          3482379.0           0.32                  0.34   1184008.86\n",
            "50  X331          4084642.0           0.29                  0.30   1225392.60\n",
            "51  X332         10839219.0           0.28                  0.29   3143373.51\n",
            "52  X333          1336988.0           0.29                  0.30    401096.40\n"
          ]
        }
      ]
    },
    {
      "cell_type": "code",
      "source": [
        "#Download do resultado para validação\n",
        "resultado_com_custo.to_csv('Otimizado.csv', index=False, sep=\";\", decimal=',')\n",
        "files.download('Otimizado.csv')\n"
      ],
      "metadata": {
        "id": "bJDUZ1Z9EvOa",
        "colab": {
          "base_uri": "https://localhost:8080/",
          "height": 17
        },
        "outputId": "bb8d50d2-9533-4feb-a364-891162a7e490"
      },
      "execution_count": 32,
      "outputs": [
        {
          "output_type": "display_data",
          "data": {
            "text/plain": [
              "<IPython.core.display.Javascript object>"
            ],
            "application/javascript": [
              "\n",
              "    async function download(id, filename, size) {\n",
              "      if (!google.colab.kernel.accessAllowed) {\n",
              "        return;\n",
              "      }\n",
              "      const div = document.createElement('div');\n",
              "      const label = document.createElement('label');\n",
              "      label.textContent = `Downloading \"${filename}\": `;\n",
              "      div.appendChild(label);\n",
              "      const progress = document.createElement('progress');\n",
              "      progress.max = size;\n",
              "      div.appendChild(progress);\n",
              "      document.body.appendChild(div);\n",
              "\n",
              "      const buffers = [];\n",
              "      let downloaded = 0;\n",
              "\n",
              "      const channel = await google.colab.kernel.comms.open(id);\n",
              "      // Send a message to notify the kernel that we're ready.\n",
              "      channel.send({})\n",
              "\n",
              "      for await (const message of channel.messages) {\n",
              "        // Send a message to notify the kernel that we're ready.\n",
              "        channel.send({})\n",
              "        if (message.buffers) {\n",
              "          for (const buffer of message.buffers) {\n",
              "            buffers.push(buffer);\n",
              "            downloaded += buffer.byteLength;\n",
              "            progress.value = downloaded;\n",
              "          }\n",
              "        }\n",
              "      }\n",
              "      const blob = new Blob(buffers, {type: 'application/binary'});\n",
              "      const a = document.createElement('a');\n",
              "      a.href = window.URL.createObjectURL(blob);\n",
              "      a.download = filename;\n",
              "      div.appendChild(a);\n",
              "      a.click();\n",
              "      div.remove();\n",
              "    }\n",
              "  "
            ]
          },
          "metadata": {}
        },
        {
          "output_type": "display_data",
          "data": {
            "text/plain": [
              "<IPython.core.display.Javascript object>"
            ],
            "application/javascript": [
              "download(\"download_d1d64a99-7561-4849-a0de-2ebe2644b3bc\", \"Otimizado.csv\", 2060)"
            ]
          },
          "metadata": {}
        }
      ]
    }
  ]
}